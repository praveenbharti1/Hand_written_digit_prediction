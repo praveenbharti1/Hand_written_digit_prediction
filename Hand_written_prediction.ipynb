{
 "cells": [
  {
   "cell_type": "code",
   "execution_count": 1,
   "metadata": {
    "id": "MOe8WrFl8qRh"
   },
   "outputs": [],
   "source": [
    "import os\n",
    "ROOT = \"/content/drive/MyDrive/Deep_Learning/ANN\"\n",
    "os.chdir(ROOT)"
   ]
  },
  {
   "cell_type": "code",
   "execution_count": 2,
   "metadata": {
    "colab": {
     "base_uri": "https://localhost:8080/"
    },
    "id": "QksqlTaB92EH",
    "outputId": "3b1d02b9-890c-4a5f-da86-e41ffa74bf11"
   },
   "outputs": [
    {
     "data": {
      "text/plain": [
       "['517d2f9c7af2f70.png', 'log', 'model.h5', 'ANN_Demo.ipynb', 'Callbacks.ipynb']"
      ]
     },
     "execution_count": 2,
     "metadata": {},
     "output_type": "execute_result"
    }
   ],
   "source": [
    "os.listdir()"
   ]
  },
  {
   "cell_type": "code",
   "execution_count": 1,
   "metadata": {
    "id": "aUt_Dbyu-vM2",
    "tags": []
   },
   "outputs": [],
   "source": [
    "import tensorflow as tf"
   ]
  },
  {
   "cell_type": "code",
   "execution_count": 2,
   "metadata": {
    "colab": {
     "base_uri": "https://localhost:8080/",
     "height": 35
    },
    "id": "4AnjiAZU-3Cp",
    "outputId": "46f7012e-0df4-47f1-96ec-3c5446f30459",
    "tags": []
   },
   "outputs": [
    {
     "data": {
      "text/plain": [
       "'2.12.0'"
      ]
     },
     "execution_count": 2,
     "metadata": {},
     "output_type": "execute_result"
    }
   ],
   "source": [
    "tf.__version__"
   ]
  },
  {
   "cell_type": "code",
   "execution_count": 3,
   "metadata": {
    "colab": {
     "base_uri": "https://localhost:8080/"
    },
    "id": "YRLyXdDM-64R",
    "outputId": "d8cfba71-d8dd-4936-af62-844f5f039fb8",
    "tags": []
   },
   "outputs": [
    {
     "data": {
      "text/plain": [
       "[]"
      ]
     },
     "execution_count": 3,
     "metadata": {},
     "output_type": "execute_result"
    }
   ],
   "source": [
    "tf.config.list_physical_devices(\"GPU\")"
   ]
  },
  {
   "cell_type": "markdown",
   "metadata": {
    "id": "cssSk93gAFZG"
   },
   "source": [
    "## A simple classifier using keras Sequential API"
   ]
  },
  {
   "cell_type": "markdown",
   "metadata": {
    "id": "2oNgEDDuAPZh"
   },
   "source": [
    "### Dataset MNIST\n",
    "\n",
    "* its a datatset of handwritten digits\n",
    "* each datapoint it 2d array of 28X28\n",
    "* it has 10 classes 0-9\n",
    "* aka hello world for ANN"
   ]
  },
  {
   "cell_type": "code",
   "execution_count": 1,
   "metadata": {
    "id": "hMN0BI06_HOx",
    "tags": []
   },
   "outputs": [],
   "source": [
    "import numpy as np\n",
    "import matplotlib.pyplot as plt\n",
    "import pandas as pd\n",
    "import tensorflow as tf\n",
    "import os"
   ]
  },
  {
   "cell_type": "code",
   "execution_count": 2,
   "metadata": {
    "colab": {
     "base_uri": "https://localhost:8080/"
    },
    "id": "1NrxsJJz_6Ni",
    "outputId": "3c3c6e6b-1b98-411a-9216-3598f3182b63",
    "tags": []
   },
   "outputs": [],
   "source": [
    "mnist = tf.keras.datasets.mnist\n",
    "(X_train_full, y_train_full), (X_test, y_test) = mnist.load_data()"
   ]
  },
  {
   "cell_type": "code",
   "execution_count": 3,
   "metadata": {
    "colab": {
     "base_uri": "https://localhost:8080/"
    },
    "id": "YDCukdEtBFhi",
    "outputId": "137df3c7-5c35-48f9-b28a-9ea99f6f22a1",
    "tags": []
   },
   "outputs": [
    {
     "data": {
      "text/plain": [
       "((60000, 28, 28), dtype('uint8'))"
      ]
     },
     "execution_count": 3,
     "metadata": {},
     "output_type": "execute_result"
    }
   ],
   "source": [
    "X_train_full.shape, X_train_full.dtype"
   ]
  },
  {
   "cell_type": "code",
   "execution_count": 4,
   "metadata": {
    "colab": {
     "base_uri": "https://localhost:8080/"
    },
    "id": "VU1wSTu_BpNH",
    "outputId": "ba577537-8a33-4369-b142-0f3b847c019d",
    "tags": []
   },
   "outputs": [
    {
     "data": {
      "text/plain": [
       "((60000,), dtype('uint8'))"
      ]
     },
     "execution_count": 4,
     "metadata": {},
     "output_type": "execute_result"
    }
   ],
   "source": [
    "y_train_full.shape, y_train_full.dtype"
   ]
  },
  {
   "cell_type": "code",
   "execution_count": 5,
   "metadata": {
    "colab": {
     "base_uri": "https://localhost:8080/"
    },
    "id": "74neCnC0Bwqi",
    "outputId": "c9d76d8b-6481-46be-ba7a-fe6c3958069e",
    "tags": []
   },
   "outputs": [
    {
     "data": {
      "text/plain": [
       "((10000, 28, 28), dtype('uint8'))"
      ]
     },
     "execution_count": 5,
     "metadata": {},
     "output_type": "execute_result"
    }
   ],
   "source": [
    "X_test.shape, X_test.dtype"
   ]
  },
  {
   "cell_type": "code",
   "execution_count": 6,
   "metadata": {
    "colab": {
     "base_uri": "https://localhost:8080/"
    },
    "id": "q8Zt4RNLB8HV",
    "outputId": "7332f83f-fa28-4bbf-f5c0-d066be3fa8ed",
    "tags": []
   },
   "outputs": [
    {
     "data": {
      "text/plain": [
       "((10000,), dtype('uint8'))"
      ]
     },
     "execution_count": 6,
     "metadata": {},
     "output_type": "execute_result"
    }
   ],
   "source": [
    "y_test.shape, y_test.dtype"
   ]
  },
  {
   "cell_type": "code",
   "execution_count": 7,
   "metadata": {
    "colab": {
     "base_uri": "https://localhost:8080/"
    },
    "id": "HhQK4x7VHIZu",
    "outputId": "6516a516-c6a3-4b59-d44f-f37136e96330",
    "tags": []
   },
   "outputs": [
    {
     "data": {
      "text/plain": [
       "((10000, 28, 28), (10000,))"
      ]
     },
     "execution_count": 7,
     "metadata": {},
     "output_type": "execute_result"
    }
   ],
   "source": [
    "X_test.shape, y_test.shape"
   ]
  },
  {
   "cell_type": "code",
   "execution_count": 8,
   "metadata": {
    "id": "CHKx2I9wB_-f",
    "tags": []
   },
   "outputs": [],
   "source": [
    "X_valid, X_train = X_train_full[ :5000]/255, X_train_full[5000: ]/255\n",
    "y_valid, y_train = y_train_full[ :5000], y_train_full[5000: ]"
   ]
  },
  {
   "cell_type": "code",
   "execution_count": 9,
   "metadata": {
    "id": "nRayNpZgHk8k",
    "tags": []
   },
   "outputs": [],
   "source": [
    "X_test= X_test/255"
   ]
  },
  {
   "cell_type": "code",
   "execution_count": 10,
   "metadata": {
    "colab": {
     "base_uri": "https://localhost:8080/",
     "height": 423
    },
    "id": "pFhDbyd_HqQG",
    "outputId": "69575675-dd01-4c81-ed43-f064917b86b2",
    "tags": []
   },
   "outputs": [
    {
     "data": {
      "image/png": "[encoded data removed]",
      "text/plain": [
       "<Figure size 640x480 with 1 Axes>"
      ]
     },
     "metadata": {},
     "output_type": "display_data"
    },
    {
     "data": {
      "text/plain": [
       "7"
      ]
     },
     "execution_count": 10,
     "metadata": {},
     "output_type": "execute_result"
    }
   ],
   "source": [
    "plt.imshow(X_train[0], cmap=\"binary\")\n",
    "plt.axis(\"off\")\n",
    "plt.show()\n",
    "y_train[0]"
   ]
  },
  {
   "cell_type": "markdown",
   "metadata": {
    "id": "uTtSTPehzgrh"
   },
   "source": [
    "## writing samples to TensorBoard"
   ]
  },
  {
   "cell_type": "code",
   "execution_count": 11,
   "metadata": {
    "id": "GyefcWF9Irpw",
    "tags": []
   },
   "outputs": [],
   "source": [
    "## Get unique timestamp\n",
    "import time\n",
    "def get_timestamp():\n",
    "    return time.asctime().replace(\" \", \"_\").replace(\":\", \"\")"
   ]
  },
  {
   "cell_type": "code",
   "execution_count": 12,
   "metadata": {
    "colab": {
     "base_uri": "https://localhost:8080/",
     "height": 35
    },
    "id": "mkbwrEa60Vpo",
    "outputId": "f726b55e-fd47-490a-9a4e-7be18c83f7ab",
    "tags": []
   },
   "outputs": [
    {
     "data": {
      "text/plain": [
       "'Tue_Oct_17_151016_2023'"
      ]
     },
     "execution_count": 12,
     "metadata": {},
     "output_type": "execute_result"
    }
   ],
   "source": [
    "get_timestamp()"
   ]
  },
  {
   "cell_type": "code",
   "execution_count": 13,
   "metadata": {
    "id": "1SPx4ezj0hPC",
    "tags": []
   },
   "outputs": [],
   "source": [
    "def get_log_dir_path(log_dir = \"log/fit\"):\n",
    "    log_path = os.path.join(log_dir, get_timestamp())\n",
    "    print(f\"logs will be saved at: {log_path}\")\n",
    "    return log_path"
   ]
  },
  {
   "cell_type": "code",
   "execution_count": 14,
   "metadata": {
    "colab": {
     "base_uri": "https://localhost:8080/",
     "height": 53
    },
    "id": "44r5WmyRzua_",
    "outputId": "821d740c-9e4e-4ca3-b74f-c1e5a84ec92e",
    "tags": []
   },
   "outputs": [
    {
     "name": "stdout",
     "output_type": "stream",
     "text": [
      "logs will be saved at: log/fit\\Tue_Oct_17_151016_2023\n"
     ]
    },
    {
     "data": {
      "text/plain": [
       "'log/fit\\\\Tue_Oct_17_151016_2023'"
      ]
     },
     "execution_count": 14,
     "metadata": {},
     "output_type": "execute_result"
    }
   ],
   "source": [
    "log_dir = get_log_dir_path()\n",
    "log_dir"
   ]
  },
  {
   "cell_type": "code",
   "execution_count": 15,
   "metadata": {
    "id": "CI6zdVsF2xgG",
    "tags": []
   },
   "outputs": [],
   "source": [
    "file_writer = tf.summary.create_file_writer(logdir=log_dir)"
   ]
  },
  {
   "cell_type": "code",
   "execution_count": 16,
   "metadata": {
    "id": "DhHhYlvD3Bhj",
    "tags": []
   },
   "outputs": [],
   "source": [
    "with file_writer.as_default():\n",
    "    images = np.reshape(X_train[10:30], (-1, 28,28,1))\n",
    "    tf.summary.image(\"20 handwritten digit samples\", images, max_outputs = 25, step= 0)"
   ]
  },
  {
   "cell_type": "code",
   "execution_count": 19,
   "metadata": {
    "id": "_w302vOo4Ixx",
    "tags": []
   },
   "outputs": [
    {
     "name": "stdout",
     "output_type": "stream",
     "text": [
      "The tensorboard extension is already loaded. To reload it, use:\n",
      "  %reload_ext tensorboard\n"
     ]
    }
   ],
   "source": [
    "%load_ext tensorboard"
   ]
  },
  {
   "cell_type": "code",
   "execution_count": 23,
   "metadata": {
    "colab": {
     "base_uri": "https://localhost:8080/",
     "height": 821
    },
    "id": "0gx_4_gq4NPZ",
    "outputId": "3f811a44-0c66-46e9-f222-022d3bacfdba",
    "tags": []
   },
   "outputs": [
    {
     "data": {
      "text/html": [
       "\n",
       "      <iframe id=\"tensorboard-frame-e7a3f6e723769007\" width=\"100%\" height=\"800\" frameborder=\"0\">\n",
       "      </iframe>\n",
       "      <script>\n",
       "        (function() {\n",
       "          const frame = document.getElementById(\"tensorboard-frame-e7a3f6e723769007\");\n",
       "          const url = new URL(\"/\", window.location);\n",
       "          const port = 6006;\n",
       "          if (port) {\n",
       "            url.port = port;\n",
       "          }\n",
       "          frame.src = url;\n",
       "        })();\n",
       "      </script>\n",
       "    "
      ],
      "text/plain": [
       "<IPython.core.display.HTML object>"
      ]
     },
     "metadata": {},
     "output_type": "display_data"
    }
   ],
   "source": [
    "%tensorboard --logdir log/fit --host localhost"
   ]
  },
  {
   "cell_type": "code",
   "execution_count": 27,
   "metadata": {
    "id": "UhUbvIYx5O0I",
    "tags": []
   },
   "outputs": [],
   "source": [
    "LAYERS = [\n",
    "    tf.keras.layers.Flatten(input_shape = [28, 28], name= \"inputLayer\"),\n",
    "    tf.keras.layers.Dense(300, activation='relu', name = \"hiddenLayer1\"),\n",
    "    tf.keras.layers.Dense(100, activation=\"relu\", name = \"hiddenLayer2\"),\n",
    "    tf.keras.layers.Dense(10, activation = \"Softmax\", name= \"outputLayer\")\n",
    "]"
   ]
  },
  {
   "cell_type": "code",
   "execution_count": 28,
   "metadata": {
    "id": "28KtTl7GGHdO",
    "tags": []
   },
   "outputs": [],
   "source": [
    "model = tf.keras.models.Sequential(LAYERS)"
   ]
  },
  {
   "cell_type": "code",
   "execution_count": 29,
   "metadata": {
    "colab": {
     "base_uri": "https://localhost:8080/"
    },
    "id": "cmAVlzxuGl8q",
    "outputId": "58e24306-3fe9-488f-c199-424ca6820569",
    "tags": []
   },
   "outputs": [
    {
     "data": {
      "text/plain": [
       "[<keras.layers.reshaping.flatten.Flatten at 0x219035eaef0>,\n",
       " <keras.layers.core.dense.Dense at 0x219035e9870>,\n",
       " <keras.layers.core.dense.Dense at 0x219035e9c30>,\n",
       " <keras.layers.core.dense.Dense at 0x2196b4bb550>]"
      ]
     },
     "execution_count": 29,
     "metadata": {},
     "output_type": "execute_result"
    }
   ],
   "source": [
    "model.layers"
   ]
  },
  {
   "cell_type": "code",
   "execution_count": 30,
   "metadata": {
    "colab": {
     "base_uri": "https://localhost:8080/"
    },
    "id": "caMfPWc-Go2f",
    "outputId": "e85c448e-1c83-41a7-e088-43034c9b61b8",
    "tags": []
   },
   "outputs": [
    {
     "name": "stdout",
     "output_type": "stream",
     "text": [
      "Model: \"sequential_1\"\n",
      "_________________________________________________________________\n",
      " Layer (type)                Output Shape              Param #   \n",
      "=================================================================\n",
      " inputLayer (Flatten)        (None, 784)               0         \n",
      "                                                                 \n",
      " hiddenLayer1 (Dense)        (None, 300)               235500    \n",
      "                                                                 \n",
      " hiddenLayer2 (Dense)        (None, 100)               30100     \n",
      "                                                                 \n",
      " outputLayer (Dense)         (None, 10)                1010      \n",
      "                                                                 \n",
      "=================================================================\n",
      "Total params: 266,610\n",
      "Trainable params: 266,610\n",
      "Non-trainable params: 0\n",
      "_________________________________________________________________\n"
     ]
    }
   ],
   "source": [
    "model.summary()"
   ]
  },
  {
   "cell_type": "code",
   "execution_count": 31,
   "metadata": {
    "colab": {
     "base_uri": "https://localhost:8080/"
    },
    "id": "ZYgA-qaCGuNd",
    "outputId": "55e2bb98-630a-47dd-e5df-3e437fda192a",
    "tags": []
   },
   "outputs": [
    {
     "name": "stdout",
     "output_type": "stream",
     "text": [
      "235500\n",
      "30100\n",
      "1010\n"
     ]
    },
    {
     "data": {
      "text/plain": [
       "(None,)"
      ]
     },
     "execution_count": 31,
     "metadata": {},
     "output_type": "execute_result"
    }
   ],
   "source": [
    "print(784 * 300 + 300), # hidden layer 1 (total input * Dense_hidden_1 + bias)\n",
    "print(300 * 100 + 100),  # hidden layer 2 (Dense_hidden_1 * Dense_hidden_2 + bias)\n",
    "print(100 * 10  + 10),   # output layer  (Dense_hidden_2 * Dense_output + bias)"
   ]
  },
  {
   "cell_type": "code",
   "execution_count": 32,
   "metadata": {
    "colab": {
     "base_uri": "https://localhost:8080/"
    },
    "id": "jFzTZS8rSxmi",
    "outputId": "0aa0daab-f88c-4b5b-de0c-2b04dd95001a",
    "tags": []
   },
   "outputs": [
    {
     "data": {
      "text/plain": [
       "266610"
      ]
     },
     "execution_count": 32,
     "metadata": {},
     "output_type": "execute_result"
    }
   ],
   "source": [
    "sum([784 * 300 + 300, 300 * 100 + 100, 100 * 10 + 10 ])"
   ]
  },
  {
   "cell_type": "code",
   "execution_count": 33,
   "metadata": {
    "colab": {
     "base_uri": "https://localhost:8080/"
    },
    "id": "AwTan0HjUaMY",
    "outputId": "045cbcec-2678-4110-9618-f8505b4da173",
    "tags": []
   },
   "outputs": [
    {
     "data": {
      "text/plain": [
       "<keras.layers.core.dense.Dense at 0x219035e9870>"
      ]
     },
     "execution_count": 33,
     "metadata": {},
     "output_type": "execute_result"
    }
   ],
   "source": [
    "hidden1 = model.layers[1]\n",
    "model.get_layer(hidden1.name)"
   ]
  },
  {
   "cell_type": "code",
   "execution_count": 34,
   "metadata": {
    "colab": {
     "base_uri": "https://localhost:8080/"
    },
    "id": "gjJkr7y6UxMJ",
    "outputId": "f2ff83f4-b93d-4f68-9d0e-7694a6b25013",
    "tags": []
   },
   "outputs": [
    {
     "data": {
      "text/plain": [
       "[array([[ 0.04073117, -0.05500909, -0.01259216, ...,  0.02168392,\n",
       "         -0.02690719, -0.03176191],\n",
       "        [-0.02437023,  0.05213402, -0.02121194, ..., -0.02761635,\n",
       "          0.03599076, -0.04554957],\n",
       "        [-0.02895126,  0.0608132 ,  0.07241794, ..., -0.02168467,\n",
       "         -0.03718844,  0.06479283],\n",
       "        ...,\n",
       "        [-0.03346567,  0.01128928,  0.01110867, ..., -0.05304378,\n",
       "         -0.00210976, -0.06754827],\n",
       "        [ 0.06835672,  0.04107565, -0.01257788, ...,  0.06630699,\n",
       "          0.03103195, -0.00172386],\n",
       "        [ 0.05429904,  0.01685835, -0.00425987, ..., -0.03920215,\n",
       "          0.03668609,  0.05357243]], dtype=float32),\n",
       " array([0., 0., 0., 0., 0., 0., 0., 0., 0., 0., 0., 0., 0., 0., 0., 0., 0.,\n",
       "        0., 0., 0., 0., 0., 0., 0., 0., 0., 0., 0., 0., 0., 0., 0., 0., 0.,\n",
       "        0., 0., 0., 0., 0., 0., 0., 0., 0., 0., 0., 0., 0., 0., 0., 0., 0.,\n",
       "        0., 0., 0., 0., 0., 0., 0., 0., 0., 0., 0., 0., 0., 0., 0., 0., 0.,\n",
       "        0., 0., 0., 0., 0., 0., 0., 0., 0., 0., 0., 0., 0., 0., 0., 0., 0.,\n",
       "        0., 0., 0., 0., 0., 0., 0., 0., 0., 0., 0., 0., 0., 0., 0., 0., 0.,\n",
       "        0., 0., 0., 0., 0., 0., 0., 0., 0., 0., 0., 0., 0., 0., 0., 0., 0.,\n",
       "        0., 0., 0., 0., 0., 0., 0., 0., 0., 0., 0., 0., 0., 0., 0., 0., 0.,\n",
       "        0., 0., 0., 0., 0., 0., 0., 0., 0., 0., 0., 0., 0., 0., 0., 0., 0.,\n",
       "        0., 0., 0., 0., 0., 0., 0., 0., 0., 0., 0., 0., 0., 0., 0., 0., 0.,\n",
       "        0., 0., 0., 0., 0., 0., 0., 0., 0., 0., 0., 0., 0., 0., 0., 0., 0.,\n",
       "        0., 0., 0., 0., 0., 0., 0., 0., 0., 0., 0., 0., 0., 0., 0., 0., 0.,\n",
       "        0., 0., 0., 0., 0., 0., 0., 0., 0., 0., 0., 0., 0., 0., 0., 0., 0.,\n",
       "        0., 0., 0., 0., 0., 0., 0., 0., 0., 0., 0., 0., 0., 0., 0., 0., 0.,\n",
       "        0., 0., 0., 0., 0., 0., 0., 0., 0., 0., 0., 0., 0., 0., 0., 0., 0.,\n",
       "        0., 0., 0., 0., 0., 0., 0., 0., 0., 0., 0., 0., 0., 0., 0., 0., 0.,\n",
       "        0., 0., 0., 0., 0., 0., 0., 0., 0., 0., 0., 0., 0., 0., 0., 0., 0.,\n",
       "        0., 0., 0., 0., 0., 0., 0., 0., 0., 0., 0.], dtype=float32)]"
      ]
     },
     "execution_count": 34,
     "metadata": {},
     "output_type": "execute_result"
    }
   ],
   "source": [
    "hidden1.get_weights() # it is giving both weights and biases"
   ]
  },
  {
   "cell_type": "code",
   "execution_count": 35,
   "metadata": {
    "id": "Og7CJRqaU3Q9",
    "tags": []
   },
   "outputs": [],
   "source": [
    "weights, biases = hidden1.get_weights()"
   ]
  },
  {
   "cell_type": "code",
   "execution_count": 36,
   "metadata": {
    "colab": {
     "base_uri": "https://localhost:8080/"
    },
    "id": "eOgsDmz2VKGV",
    "outputId": "21f6650c-bcef-49e4-aa05-bf10a1d1f93d",
    "tags": []
   },
   "outputs": [
    {
     "data": {
      "text/plain": [
       "(784, 300)"
      ]
     },
     "execution_count": 36,
     "metadata": {},
     "output_type": "execute_result"
    }
   ],
   "source": [
    "weights.shape"
   ]
  },
  {
   "cell_type": "code",
   "execution_count": 37,
   "metadata": {
    "colab": {
     "base_uri": "https://localhost:8080/"
    },
    "id": "QTEQpS2rVNsK",
    "outputId": "d875f561-ba56-4ff9-a122-925354c83fb7",
    "tags": []
   },
   "outputs": [
    {
     "data": {
      "text/plain": [
       "(300,)"
      ]
     },
     "execution_count": 37,
     "metadata": {},
     "output_type": "execute_result"
    }
   ],
   "source": [
    "biases.shape"
   ]
  },
  {
   "cell_type": "markdown",
   "metadata": {
    "id": "NU2V0YrBV2GQ"
   },
   "source": [
    "***loss_function(actual, pred) = pred***"
   ]
  },
  {
   "cell_type": "code",
   "execution_count": 38,
   "metadata": {
    "id": "XL7PFKaSVP43",
    "tags": []
   },
   "outputs": [],
   "source": [
    "LOSS_FUNCTION = \"sparse_categorical_crossentropy\"\n",
    "OPTIMIZER = \"SGD\"\n",
    "METRICS = [\"accuracy\"]\n",
    "\n",
    "model.compile(loss = LOSS_FUNCTION,\n",
    "              optimizer = OPTIMIZER,\n",
    "              metrics= METRICS)"
   ]
  },
  {
   "cell_type": "markdown",
   "metadata": {
    "id": "K0KVmO7oZZO9"
   },
   "source": [
    "Important\n",
    "  * **Epochs**: Integer.\n",
    "  Number of  epochs to train the model. An epoch is an iteration over the entire x and y data provided.\n",
    "\n",
    "  * **batch_size**: integer or None\n",
    "  Number of sample per gradient update. if unspecified, batch_size will default to 32. <br>\n",
    "  NOTE: Do not specify the batch if your data is in the form of dataset, generators or keras.utils.Sequence instances (since they  generate batches)\n",
    "\n",
    "  * **validation_batch_size**: Integer or None.\n",
    "  NUmber of samples per validation batch. <br>\n",
    "  if unspecified, will default to batch size. <br>\n",
    "  NOTE: Do not specify validation_batch_size if your data is in the form of datasets, generators or keras.utils.Sequence instances (since they  generate batches)\n"
   ]
  },
  {
   "cell_type": "markdown",
   "metadata": {
    "id": "VFsF8ZGylNv7"
   },
   "source": [
    "Callbacks"
   ]
  },
  {
   "cell_type": "markdown",
   "metadata": {
    "id": "BnR2lR67lSyk"
   },
   "source": [
    "TensorBoard Callbacks"
   ]
  },
  {
   "cell_type": "code",
   "execution_count": 39,
   "metadata": {
    "id": "FtK7QbG2lXgF",
    "tags": []
   },
   "outputs": [],
   "source": [
    "tensorboard_cb = tf.keras.callbacks.TensorBoard(log_dir= log_dir)"
   ]
  },
  {
   "cell_type": "markdown",
   "metadata": {
    "id": "pSc12SECln25"
   },
   "source": [
    "-early stopping"
   ]
  },
  {
   "cell_type": "code",
   "execution_count": 40,
   "metadata": {
    "id": "2KvgAgk3lmum",
    "tags": []
   },
   "outputs": [],
   "source": [
    "early_stopping_cb = tf.keras.callbacks.EarlyStopping(patience=5, restore_best_weights = True)"
   ]
  },
  {
   "cell_type": "markdown",
   "metadata": {
    "id": "AjrtKqJTmJDy"
   },
   "source": [
    "## Checkpoint"
   ]
  },
  {
   "cell_type": "code",
   "execution_count": 41,
   "metadata": {
    "tags": []
   },
   "outputs": [],
   "source": [
    "CKPT_Path = \"model_ckpt.h5\"\n",
    "\n",
    "checkpoint_cb = tf.keras.callbacks.ModelCheckpoint(CKPT_Path, save_best_only=True)"
   ]
  },
  {
   "cell_type": "code",
   "execution_count": 42,
   "metadata": {
    "tags": []
   },
   "outputs": [],
   "source": [
    "LIST_OF_CALLBACKS = [tensorboard_cb, early_stopping_cb, checkpoint_cb]"
   ]
  },
  {
   "cell_type": "code",
   "execution_count": 43,
   "metadata": {
    "colab": {
     "base_uri": "https://localhost:8080/",
     "height": 616
    },
    "id": "H4UlP5SUW_Iz",
    "outputId": "6350dd6f-03a1-4b2b-ec8c-1a57f86aa11f",
    "tags": []
   },
   "outputs": [
    {
     "name": "stdout",
     "output_type": "stream",
     "text": [
      "Epoch 1/300\n",
      "1719/1719 [==============================] - 11s 6ms/step - loss: 0.6210 - accuracy: 0.8384 - val_loss: 0.3018 - val_accuracy: 0.9178\n",
      "Epoch 2/300\n",
      "1719/1719 [==============================] - 9s 6ms/step - loss: 0.2923 - accuracy: 0.9165 - val_loss: 0.2403 - val_accuracy: 0.9322\n",
      "Epoch 3/300\n",
      "1719/1719 [==============================] - 10s 6ms/step - loss: 0.2401 - accuracy: 0.9316 - val_loss: 0.2061 - val_accuracy: 0.9440\n",
      "Epoch 4/300\n",
      "1719/1719 [==============================] - 8s 5ms/step - loss: 0.2061 - accuracy: 0.9406 - val_loss: 0.1844 - val_accuracy: 0.9498\n",
      "Epoch 5/300\n",
      "1719/1719 [==============================] - 9s 5ms/step - loss: 0.1805 - accuracy: 0.9488 - val_loss: 0.1700 - val_accuracy: 0.9530\n",
      "Epoch 6/300\n",
      "1719/1719 [==============================] - 10s 6ms/step - loss: 0.1606 - accuracy: 0.9545 - val_loss: 0.1468 - val_accuracy: 0.9608\n",
      "Epoch 7/300\n",
      "1719/1719 [==============================] - 10s 6ms/step - loss: 0.1445 - accuracy: 0.9589 - val_loss: 0.1408 - val_accuracy: 0.9606\n",
      "Epoch 8/300\n",
      "1719/1719 [==============================] - 10s 6ms/step - loss: 0.1306 - accuracy: 0.9629 - val_loss: 0.1297 - val_accuracy: 0.9638\n",
      "Epoch 9/300\n",
      "1719/1719 [==============================] - 9s 6ms/step - loss: 0.1190 - accuracy: 0.9661 - val_loss: 0.1176 - val_accuracy: 0.9674\n",
      "Epoch 10/300\n",
      "1719/1719 [==============================] - 8s 5ms/step - loss: 0.1090 - accuracy: 0.9695 - val_loss: 0.1130 - val_accuracy: 0.9672\n",
      "Epoch 11/300\n",
      "1719/1719 [==============================] - 8s 4ms/step - loss: 0.0998 - accuracy: 0.9719 - val_loss: 0.1052 - val_accuracy: 0.9696\n",
      "Epoch 12/300\n",
      "1719/1719 [==============================] - 8s 5ms/step - loss: 0.0922 - accuracy: 0.9741 - val_loss: 0.0995 - val_accuracy: 0.9702\n",
      "Epoch 13/300\n",
      "1719/1719 [==============================] - 8s 4ms/step - loss: 0.0853 - accuracy: 0.9762 - val_loss: 0.0963 - val_accuracy: 0.9724\n",
      "Epoch 14/300\n",
      "1719/1719 [==============================] - 8s 4ms/step - loss: 0.0790 - accuracy: 0.9784 - val_loss: 0.0927 - val_accuracy: 0.9736\n",
      "Epoch 15/300\n",
      "1719/1719 [==============================] - 8s 4ms/step - loss: 0.0733 - accuracy: 0.9800 - val_loss: 0.0901 - val_accuracy: 0.9748\n",
      "Epoch 16/300\n",
      "1719/1719 [==============================] - 8s 4ms/step - loss: 0.0685 - accuracy: 0.9812 - val_loss: 0.0869 - val_accuracy: 0.9750\n",
      "Epoch 17/300\n",
      "1719/1719 [==============================] - 8s 5ms/step - loss: 0.0639 - accuracy: 0.9822 - val_loss: 0.0859 - val_accuracy: 0.9756\n",
      "Epoch 18/300\n",
      "1719/1719 [==============================] - 8s 5ms/step - loss: 0.0600 - accuracy: 0.9835 - val_loss: 0.0828 - val_accuracy: 0.9766\n",
      "Epoch 19/300\n",
      "1719/1719 [==============================] - 8s 5ms/step - loss: 0.0557 - accuracy: 0.9852 - val_loss: 0.0832 - val_accuracy: 0.9748\n",
      "Epoch 20/300\n",
      "1719/1719 [==============================] - 8s 5ms/step - loss: 0.0524 - accuracy: 0.9860 - val_loss: 0.0798 - val_accuracy: 0.9788\n",
      "Epoch 21/300\n",
      "1719/1719 [==============================] - 8s 5ms/step - loss: 0.0492 - accuracy: 0.9867 - val_loss: 0.0764 - val_accuracy: 0.9790\n",
      "Epoch 22/300\n",
      "1719/1719 [==============================] - 8s 4ms/step - loss: 0.0464 - accuracy: 0.9875 - val_loss: 0.0766 - val_accuracy: 0.9782\n",
      "Epoch 23/300\n",
      "1719/1719 [==============================] - 8s 4ms/step - loss: 0.0436 - accuracy: 0.9884 - val_loss: 0.0738 - val_accuracy: 0.9802\n",
      "Epoch 24/300\n",
      "1719/1719 [==============================] - 8s 5ms/step - loss: 0.0410 - accuracy: 0.9889 - val_loss: 0.0737 - val_accuracy: 0.9790\n",
      "Epoch 25/300\n",
      "1719/1719 [==============================] - 8s 5ms/step - loss: 0.0384 - accuracy: 0.9902 - val_loss: 0.0716 - val_accuracy: 0.9800\n",
      "Epoch 26/300\n",
      "1719/1719 [==============================] - 8s 4ms/step - loss: 0.0362 - accuracy: 0.9905 - val_loss: 0.0711 - val_accuracy: 0.9798\n",
      "Epoch 27/300\n",
      "1719/1719 [==============================] - 8s 4ms/step - loss: 0.0341 - accuracy: 0.9916 - val_loss: 0.0725 - val_accuracy: 0.9788\n",
      "Epoch 28/300\n",
      "1719/1719 [==============================] - 8s 4ms/step - loss: 0.0321 - accuracy: 0.9922 - val_loss: 0.0697 - val_accuracy: 0.9802\n",
      "Epoch 29/300\n",
      "1719/1719 [==============================] - 8s 4ms/step - loss: 0.0302 - accuracy: 0.9926 - val_loss: 0.0695 - val_accuracy: 0.9804\n",
      "Epoch 30/300\n",
      "1719/1719 [==============================] - 8s 4ms/step - loss: 0.0284 - accuracy: 0.9936 - val_loss: 0.0708 - val_accuracy: 0.9788\n",
      "Epoch 31/300\n",
      "1719/1719 [==============================] - 8s 5ms/step - loss: 0.0269 - accuracy: 0.9944 - val_loss: 0.0700 - val_accuracy: 0.9804\n",
      "Epoch 32/300\n",
      "1719/1719 [==============================] - 8s 4ms/step - loss: 0.0254 - accuracy: 0.9945 - val_loss: 0.0687 - val_accuracy: 0.9812\n",
      "Epoch 33/300\n",
      "1719/1719 [==============================] - 8s 4ms/step - loss: 0.0239 - accuracy: 0.9953 - val_loss: 0.0691 - val_accuracy: 0.9810\n",
      "Epoch 34/300\n",
      "1719/1719 [==============================] - 8s 5ms/step - loss: 0.0225 - accuracy: 0.9955 - val_loss: 0.0682 - val_accuracy: 0.9808\n",
      "Epoch 35/300\n",
      "1719/1719 [==============================] - 8s 5ms/step - loss: 0.0213 - accuracy: 0.9959 - val_loss: 0.0673 - val_accuracy: 0.9812\n",
      "Epoch 36/300\n",
      "1719/1719 [==============================] - 8s 5ms/step - loss: 0.0202 - accuracy: 0.9964 - val_loss: 0.0674 - val_accuracy: 0.9816\n",
      "Epoch 37/300\n",
      "1719/1719 [==============================] - 8s 4ms/step - loss: 0.0192 - accuracy: 0.9967 - val_loss: 0.0685 - val_accuracy: 0.9810\n",
      "Epoch 38/300\n",
      "1719/1719 [==============================] - 8s 5ms/step - loss: 0.0180 - accuracy: 0.9971 - val_loss: 0.0674 - val_accuracy: 0.9822\n",
      "Epoch 39/300\n",
      "1719/1719 [==============================] - 8s 4ms/step - loss: 0.0171 - accuracy: 0.9975 - val_loss: 0.0690 - val_accuracy: 0.9804\n",
      "Epoch 40/300\n",
      "1719/1719 [==============================] - 8s 5ms/step - loss: 0.0165 - accuracy: 0.9975 - val_loss: 0.0681 - val_accuracy: 0.9814\n",
      "Epoch 41/300\n",
      "1719/1719 [==============================] - 9s 5ms/step - loss: 0.0153 - accuracy: 0.9979 - val_loss: 0.0680 - val_accuracy: 0.9818\n",
      "Epoch 42/300\n",
      "1719/1719 [==============================] - 9s 5ms/step - loss: 0.0146 - accuracy: 0.9981 - val_loss: 0.0661 - val_accuracy: 0.9828\n",
      "Epoch 43/300\n",
      "1719/1719 [==============================] - 9s 5ms/step - loss: 0.0139 - accuracy: 0.9983 - val_loss: 0.0682 - val_accuracy: 0.9810\n",
      "Epoch 44/300\n",
      "1719/1719 [==============================] - 9s 5ms/step - loss: 0.0131 - accuracy: 0.9987 - val_loss: 0.0671 - val_accuracy: 0.9824\n",
      "Epoch 45/300\n",
      "1719/1719 [==============================] - 9s 5ms/step - loss: 0.0125 - accuracy: 0.9987 - val_loss: 0.0704 - val_accuracy: 0.9810\n",
      "Epoch 46/300\n",
      "1719/1719 [==============================] - 9s 5ms/step - loss: 0.0119 - accuracy: 0.9988 - val_loss: 0.0670 - val_accuracy: 0.9830\n",
      "Epoch 47/300\n",
      "1719/1719 [==============================] - 9s 5ms/step - loss: 0.0112 - accuracy: 0.9990 - val_loss: 0.0671 - val_accuracy: 0.9816\n",
      "Epoch 48/300\n",
      "1719/1719 [==============================] - 9s 5ms/step - loss: 0.0108 - accuracy: 0.9990 - val_loss: 0.0665 - val_accuracy: 0.9820\n",
      "Epoch 49/300\n",
      "1719/1719 [==============================] - 9s 5ms/step - loss: 0.0103 - accuracy: 0.9990 - val_loss: 0.0690 - val_accuracy: 0.9804\n",
      "Epoch 50/300\n",
      "1719/1719 [==============================] - 9s 5ms/step - loss: 0.0098 - accuracy: 0.9991 - val_loss: 0.0677 - val_accuracy: 0.9822\n",
      "Epoch 51/300\n",
      "1719/1719 [==============================] - 9s 5ms/step - loss: 0.0094 - accuracy: 0.9992 - val_loss: 0.0682 - val_accuracy: 0.9818\n",
      "Epoch 52/300\n",
      "1719/1719 [==============================] - 9s 5ms/step - loss: 0.0090 - accuracy: 0.9993 - val_loss: 0.0688 - val_accuracy: 0.9818\n",
      "Epoch 53/300\n",
      "1719/1719 [==============================] - 10s 6ms/step - loss: 0.0086 - accuracy: 0.9993 - val_loss: 0.0702 - val_accuracy: 0.9810\n",
      "Epoch 54/300\n",
      "1719/1719 [==============================] - 10s 6ms/step - loss: 0.0082 - accuracy: 0.9995 - val_loss: 0.0689 - val_accuracy: 0.9822\n",
      "Epoch 55/300\n",
      "1719/1719 [==============================] - 10s 6ms/step - loss: 0.0079 - accuracy: 0.9994 - val_loss: 0.0686 - val_accuracy: 0.9816\n",
      "Epoch 56/300\n",
      "1719/1719 [==============================] - 11s 6ms/step - loss: 0.0076 - accuracy: 0.9996 - val_loss: 0.0688 - val_accuracy: 0.9818\n",
      "Epoch 57/300\n",
      "1719/1719 [==============================] - 10s 6ms/step - loss: 0.0072 - accuracy: 0.9995 - val_loss: 0.0688 - val_accuracy: 0.9818\n",
      "Epoch 58/300\n",
      "1719/1719 [==============================] - 10s 6ms/step - loss: 0.0069 - accuracy: 0.9996 - val_loss: 0.0692 - val_accuracy: 0.9814\n",
      "Epoch 59/300\n",
      "1719/1719 [==============================] - 8s 5ms/step - loss: 0.0066 - accuracy: 0.9996 - val_loss: 0.0691 - val_accuracy: 0.9822\n",
      "Epoch 60/300\n",
      "1719/1719 [==============================] - 8s 5ms/step - loss: 0.0064 - accuracy: 0.9996 - val_loss: 0.0692 - val_accuracy: 0.9824\n",
      "Epoch 61/300\n",
      "1719/1719 [==============================] - 8s 5ms/step - loss: 0.0061 - accuracy: 0.9997 - val_loss: 0.0693 - val_accuracy: 0.9814\n",
      "Epoch 62/300\n",
      "1719/1719 [==============================] - 8s 5ms/step - loss: 0.0059 - accuracy: 0.9997 - val_loss: 0.0698 - val_accuracy: 0.9816\n",
      "Epoch 63/300\n",
      "1719/1719 [==============================] - 8s 5ms/step - loss: 0.0057 - accuracy: 0.9996 - val_loss: 0.0700 - val_accuracy: 0.9822\n",
      "Epoch 64/300\n",
      "1719/1719 [==============================] - 8s 5ms/step - loss: 0.0054 - accuracy: 0.9997 - val_loss: 0.0700 - val_accuracy: 0.9820\n",
      "Epoch 65/300\n",
      "1719/1719 [==============================] - 8s 5ms/step - loss: 0.0052 - accuracy: 0.9997 - val_loss: 0.0703 - val_accuracy: 0.9818\n",
      "Epoch 66/300\n",
      "1719/1719 [==============================] - 8s 5ms/step - loss: 0.0050 - accuracy: 0.9998 - val_loss: 0.0714 - val_accuracy: 0.9818\n",
      "Epoch 67/300\n",
      "1719/1719 [==============================] - 8s 5ms/step - loss: 0.0049 - accuracy: 0.9997 - val_loss: 0.0708 - val_accuracy: 0.9822\n",
      "Epoch 68/300\n",
      "1719/1719 [==============================] - 8s 5ms/step - loss: 0.0047 - accuracy: 0.9998 - val_loss: 0.0709 - val_accuracy: 0.9820\n",
      "Epoch 69/300\n",
      "1719/1719 [==============================] - 8s 5ms/step - loss: 0.0046 - accuracy: 0.9998 - val_loss: 0.0705 - val_accuracy: 0.9816\n",
      "Epoch 70/300\n",
      "1719/1719 [==============================] - 8s 5ms/step - loss: 0.0044 - accuracy: 0.9998 - val_loss: 0.0714 - val_accuracy: 0.9820\n",
      "Epoch 71/300\n",
      "1719/1719 [==============================] - 8s 5ms/step - loss: 0.0042 - accuracy: 0.9998 - val_loss: 0.0715 - val_accuracy: 0.9826\n",
      "Epoch 72/300\n",
      "1719/1719 [==============================] - 8s 5ms/step - loss: 0.0041 - accuracy: 0.9999 - val_loss: 0.0716 - val_accuracy: 0.9822\n",
      "Epoch 73/300\n",
      "1719/1719 [==============================] - 8s 5ms/step - loss: 0.0040 - accuracy: 0.9999 - val_loss: 0.0711 - val_accuracy: 0.9828\n",
      "Epoch 74/300\n",
      "1719/1719 [==============================] - 8s 5ms/step - loss: 0.0039 - accuracy: 0.9999 - val_loss: 0.0719 - val_accuracy: 0.9822\n",
      "Epoch 75/300\n",
      "1719/1719 [==============================] - 8s 5ms/step - loss: 0.0037 - accuracy: 0.9999 - val_loss: 0.0716 - val_accuracy: 0.9824\n",
      "Epoch 76/300\n",
      "1719/1719 [==============================] - 8s 5ms/step - loss: 0.0036 - accuracy: 0.9999 - val_loss: 0.0715 - val_accuracy: 0.9826\n",
      "Epoch 77/300\n",
      "1719/1719 [==============================] - 8s 5ms/step - loss: 0.0035 - accuracy: 0.9999 - val_loss: 0.0724 - val_accuracy: 0.9824\n",
      "Epoch 78/300\n",
      "1719/1719 [==============================] - 8s 5ms/step - loss: 0.0034 - accuracy: 1.0000 - val_loss: 0.0717 - val_accuracy: 0.9826\n",
      "Epoch 79/300\n",
      "1719/1719 [==============================] - 8s 5ms/step - loss: 0.0033 - accuracy: 1.0000 - val_loss: 0.0724 - val_accuracy: 0.9818\n",
      "Epoch 80/300\n",
      "1719/1719 [==============================] - 8s 5ms/step - loss: 0.0032 - accuracy: 0.9999 - val_loss: 0.0721 - val_accuracy: 0.9828\n",
      "Epoch 81/300\n",
      "1719/1719 [==============================] - 8s 5ms/step - loss: 0.0032 - accuracy: 0.9999 - val_loss: 0.0728 - val_accuracy: 0.9824\n",
      "Epoch 82/300\n",
      "1719/1719 [==============================] - 8s 5ms/step - loss: 0.0030 - accuracy: 1.0000 - val_loss: 0.0728 - val_accuracy: 0.9824\n",
      "Epoch 83/300\n",
      "1719/1719 [==============================] - 7s 4ms/step - loss: 0.0030 - accuracy: 1.0000 - val_loss: 0.0730 - val_accuracy: 0.9824\n",
      "Epoch 84/300\n",
      "1719/1719 [==============================] - 6s 4ms/step - loss: 0.0029 - accuracy: 1.0000 - val_loss: 0.0726 - val_accuracy: 0.9822\n",
      "Epoch 85/300\n",
      "1719/1719 [==============================] - 6s 4ms/step - loss: 0.0028 - accuracy: 1.0000 - val_loss: 0.0728 - val_accuracy: 0.9828\n",
      "Epoch 86/300\n",
      "1719/1719 [==============================] - 6s 4ms/step - loss: 0.0028 - accuracy: 1.0000 - val_loss: 0.0729 - val_accuracy: 0.9830\n",
      "Epoch 87/300\n",
      "1719/1719 [==============================] - 6s 4ms/step - loss: 0.0027 - accuracy: 1.0000 - val_loss: 0.0732 - val_accuracy: 0.9826\n",
      "Epoch 88/300\n",
      "1719/1719 [==============================] - 6s 4ms/step - loss: 0.0026 - accuracy: 1.0000 - val_loss: 0.0731 - val_accuracy: 0.9826\n",
      "Epoch 89/300\n",
      "1719/1719 [==============================] - 7s 4ms/step - loss: 0.0026 - accuracy: 1.0000 - val_loss: 0.0735 - val_accuracy: 0.9828\n",
      "Epoch 90/300\n",
      "1719/1719 [==============================] - 6s 4ms/step - loss: 0.0025 - accuracy: 1.0000 - val_loss: 0.0738 - val_accuracy: 0.9826\n",
      "Epoch 91/300\n",
      "1719/1719 [==============================] - 6s 4ms/step - loss: 0.0025 - accuracy: 1.0000 - val_loss: 0.0744 - val_accuracy: 0.9824\n",
      "Epoch 92/300\n",
      "1719/1719 [==============================] - 6s 4ms/step - loss: 0.0024 - accuracy: 1.0000 - val_loss: 0.0743 - val_accuracy: 0.9824\n",
      "Epoch 93/300\n",
      "1719/1719 [==============================] - 6s 4ms/step - loss: 0.0023 - accuracy: 1.0000 - val_loss: 0.0740 - val_accuracy: 0.9824\n",
      "Epoch 94/300\n",
      "1719/1719 [==============================] - 6s 4ms/step - loss: 0.0023 - accuracy: 1.0000 - val_loss: 0.0743 - val_accuracy: 0.9824\n",
      "Epoch 95/300\n",
      "1719/1719 [==============================] - 6s 4ms/step - loss: 0.0022 - accuracy: 1.0000 - val_loss: 0.0750 - val_accuracy: 0.9828\n",
      "Epoch 96/300\n",
      "1719/1719 [==============================] - 7s 4ms/step - loss: 0.0022 - accuracy: 1.0000 - val_loss: 0.0742 - val_accuracy: 0.9828\n",
      "Epoch 97/300\n",
      "1719/1719 [==============================] - 6s 4ms/step - loss: 0.0022 - accuracy: 1.0000 - val_loss: 0.0743 - val_accuracy: 0.9822\n",
      "Epoch 98/300\n",
      "1719/1719 [==============================] - 6s 4ms/step - loss: 0.0021 - accuracy: 1.0000 - val_loss: 0.0749 - val_accuracy: 0.9828\n",
      "Epoch 99/300\n",
      "1719/1719 [==============================] - 6s 4ms/step - loss: 0.0021 - accuracy: 1.0000 - val_loss: 0.0758 - val_accuracy: 0.9824\n",
      "Epoch 100/300\n",
      "1719/1719 [==============================] - 6s 4ms/step - loss: 0.0020 - accuracy: 1.0000 - val_loss: 0.0751 - val_accuracy: 0.9828\n",
      "Epoch 101/300\n",
      "1719/1719 [==============================] - 6s 4ms/step - loss: 0.0020 - accuracy: 1.0000 - val_loss: 0.0750 - val_accuracy: 0.9828\n",
      "Epoch 102/300\n",
      "1719/1719 [==============================] - 7s 4ms/step - loss: 0.0020 - accuracy: 1.0000 - val_loss: 0.0752 - val_accuracy: 0.9826\n",
      "Epoch 103/300\n",
      "1719/1719 [==============================] - 6s 4ms/step - loss: 0.0019 - accuracy: 1.0000 - val_loss: 0.0757 - val_accuracy: 0.9822\n",
      "Epoch 104/300\n",
      "1719/1719 [==============================] - 6s 4ms/step - loss: 0.0019 - accuracy: 1.0000 - val_loss: 0.0755 - val_accuracy: 0.9826\n",
      "Epoch 105/300\n",
      "1719/1719 [==============================] - 6s 4ms/step - loss: 0.0018 - accuracy: 1.0000 - val_loss: 0.0758 - val_accuracy: 0.9824\n",
      "Epoch 106/300\n",
      "1719/1719 [==============================] - 6s 4ms/step - loss: 0.0018 - accuracy: 1.0000 - val_loss: 0.0755 - val_accuracy: 0.9824\n",
      "Epoch 107/300\n",
      "1719/1719 [==============================] - 6s 4ms/step - loss: 0.0018 - accuracy: 1.0000 - val_loss: 0.0755 - val_accuracy: 0.9826\n",
      "Epoch 108/300\n",
      "1719/1719 [==============================] - 6s 4ms/step - loss: 0.0017 - accuracy: 1.0000 - val_loss: 0.0757 - val_accuracy: 0.9826\n",
      "Epoch 109/300\n",
      "1719/1719 [==============================] - 7s 4ms/step - loss: 0.0017 - accuracy: 1.0000 - val_loss: 0.0762 - val_accuracy: 0.9830\n",
      "Epoch 110/300\n",
      "1719/1719 [==============================] - 7s 4ms/step - loss: 0.0017 - accuracy: 1.0000 - val_loss: 0.0760 - val_accuracy: 0.9828\n",
      "Epoch 111/300\n",
      "1719/1719 [==============================] - 6s 4ms/step - loss: 0.0017 - accuracy: 1.0000 - val_loss: 0.0761 - val_accuracy: 0.9826\n",
      "Epoch 112/300\n",
      "1719/1719 [==============================] - 6s 4ms/step - loss: 0.0016 - accuracy: 1.0000 - val_loss: 0.0760 - val_accuracy: 0.9828\n",
      "Epoch 113/300\n",
      "1719/1719 [==============================] - 7s 4ms/step - loss: 0.0016 - accuracy: 1.0000 - val_loss: 0.0766 - val_accuracy: 0.9820\n",
      "Epoch 114/300\n",
      "1719/1719 [==============================] - 7s 4ms/step - loss: 0.0016 - accuracy: 1.0000 - val_loss: 0.0762 - val_accuracy: 0.9826\n",
      "Epoch 115/300\n",
      "1719/1719 [==============================] - 6s 4ms/step - loss: 0.0016 - accuracy: 1.0000 - val_loss: 0.0767 - val_accuracy: 0.9830\n",
      "Epoch 116/300\n",
      "1719/1719 [==============================] - 6s 4ms/step - loss: 0.0015 - accuracy: 1.0000 - val_loss: 0.0769 - val_accuracy: 0.9828\n",
      "Epoch 117/300\n",
      "1719/1719 [==============================] - 7s 4ms/step - loss: 0.0015 - accuracy: 1.0000 - val_loss: 0.0769 - val_accuracy: 0.9824\n",
      "Epoch 118/300\n",
      "1719/1719 [==============================] - 6s 4ms/step - loss: 0.0015 - accuracy: 1.0000 - val_loss: 0.0772 - val_accuracy: 0.9826\n",
      "Epoch 119/300\n",
      "1719/1719 [==============================] - 6s 4ms/step - loss: 0.0015 - accuracy: 1.0000 - val_loss: 0.0768 - val_accuracy: 0.9826\n",
      "Epoch 120/300\n",
      "1719/1719 [==============================] - 6s 4ms/step - loss: 0.0014 - accuracy: 1.0000 - val_loss: 0.0769 - val_accuracy: 0.9826\n",
      "Epoch 121/300\n",
      "1719/1719 [==============================] - 6s 4ms/step - loss: 0.0014 - accuracy: 1.0000 - val_loss: 0.0772 - val_accuracy: 0.9828\n",
      "Epoch 122/300\n",
      "1719/1719 [==============================] - 6s 4ms/step - loss: 0.0014 - accuracy: 1.0000 - val_loss: 0.0776 - val_accuracy: 0.9828\n",
      "Epoch 123/300\n",
      "1719/1719 [==============================] - 6s 4ms/step - loss: 0.0014 - accuracy: 1.0000 - val_loss: 0.0773 - val_accuracy: 0.9826\n",
      "Epoch 124/300\n",
      "1719/1719 [==============================] - 7s 4ms/step - loss: 0.0014 - accuracy: 1.0000 - val_loss: 0.0776 - val_accuracy: 0.9826\n",
      "Epoch 125/300\n",
      "1719/1719 [==============================] - 6s 4ms/step - loss: 0.0013 - accuracy: 1.0000 - val_loss: 0.0773 - val_accuracy: 0.9828\n",
      "Epoch 126/300\n",
      "1719/1719 [==============================] - 6s 4ms/step - loss: 0.0013 - accuracy: 1.0000 - val_loss: 0.0775 - val_accuracy: 0.9826\n",
      "Epoch 127/300\n",
      "1719/1719 [==============================] - 6s 4ms/step - loss: 0.0013 - accuracy: 1.0000 - val_loss: 0.0781 - val_accuracy: 0.9828\n",
      "Epoch 128/300\n",
      "1719/1719 [==============================] - 6s 4ms/step - loss: 0.0013 - accuracy: 1.0000 - val_loss: 0.0777 - val_accuracy: 0.9828\n",
      "Epoch 129/300\n",
      "1719/1719 [==============================] - 6s 4ms/step - loss: 0.0013 - accuracy: 1.0000 - val_loss: 0.0782 - val_accuracy: 0.9828\n",
      "Epoch 130/300\n",
      "1719/1719 [==============================] - 7s 4ms/step - loss: 0.0012 - accuracy: 1.0000 - val_loss: 0.0780 - val_accuracy: 0.9826\n",
      "Epoch 131/300\n",
      "1719/1719 [==============================] - 6s 4ms/step - loss: 0.0012 - accuracy: 1.0000 - val_loss: 0.0785 - val_accuracy: 0.9826\n",
      "Epoch 132/300\n",
      "1719/1719 [==============================] - 7s 4ms/step - loss: 0.0012 - accuracy: 1.0000 - val_loss: 0.0781 - val_accuracy: 0.9826\n",
      "Epoch 133/300\n",
      "1719/1719 [==============================] - 6s 4ms/step - loss: 0.0012 - accuracy: 1.0000 - val_loss: 0.0784 - val_accuracy: 0.9826\n",
      "Epoch 134/300\n",
      "1719/1719 [==============================] - 6s 4ms/step - loss: 0.0012 - accuracy: 1.0000 - val_loss: 0.0787 - val_accuracy: 0.9828\n",
      "Epoch 135/300\n",
      "1719/1719 [==============================] - 6s 4ms/step - loss: 0.0012 - accuracy: 1.0000 - val_loss: 0.0788 - val_accuracy: 0.9828\n",
      "Epoch 136/300\n",
      "1719/1719 [==============================] - 6s 4ms/step - loss: 0.0011 - accuracy: 1.0000 - val_loss: 0.0790 - val_accuracy: 0.9824\n",
      "Epoch 137/300\n",
      "1719/1719 [==============================] - 7s 4ms/step - loss: 0.0011 - accuracy: 1.0000 - val_loss: 0.0788 - val_accuracy: 0.9830\n",
      "Epoch 138/300\n",
      "1719/1719 [==============================] - 7s 4ms/step - loss: 0.0011 - accuracy: 1.0000 - val_loss: 0.0788 - val_accuracy: 0.9828\n",
      "Epoch 139/300\n",
      "1719/1719 [==============================] - 6s 4ms/step - loss: 0.0011 - accuracy: 1.0000 - val_loss: 0.0792 - val_accuracy: 0.9830\n",
      "Epoch 140/300\n",
      "1719/1719 [==============================] - 6s 4ms/step - loss: 0.0011 - accuracy: 1.0000 - val_loss: 0.0794 - val_accuracy: 0.9830\n",
      "Epoch 141/300\n",
      "1719/1719 [==============================] - 6s 4ms/step - loss: 0.0011 - accuracy: 1.0000 - val_loss: 0.0790 - val_accuracy: 0.9826\n",
      "Epoch 142/300\n",
      "1719/1719 [==============================] - 6s 4ms/step - loss: 0.0011 - accuracy: 1.0000 - val_loss: 0.0797 - val_accuracy: 0.9830\n",
      "Epoch 143/300\n",
      "1719/1719 [==============================] - 7s 4ms/step - loss: 0.0011 - accuracy: 1.0000 - val_loss: 0.0794 - val_accuracy: 0.9830\n",
      "Epoch 144/300\n",
      "1719/1719 [==============================] - 6s 4ms/step - loss: 0.0010 - accuracy: 1.0000 - val_loss: 0.0792 - val_accuracy: 0.9828\n",
      "Epoch 145/300\n",
      "1719/1719 [==============================] - 6s 4ms/step - loss: 0.0010 - accuracy: 1.0000 - val_loss: 0.0796 - val_accuracy: 0.9828\n",
      "Epoch 146/300\n",
      "1719/1719 [==============================] - 6s 4ms/step - loss: 0.0010 - accuracy: 1.0000 - val_loss: 0.0796 - val_accuracy: 0.9830\n",
      "Epoch 147/300\n",
      "1719/1719 [==============================] - 6s 4ms/step - loss: 0.0010 - accuracy: 1.0000 - val_loss: 0.0799 - val_accuracy: 0.9826\n",
      "Epoch 148/300\n",
      "1719/1719 [==============================] - 6s 4ms/step - loss: 9.9412e-04 - accuracy: 1.0000 - val_loss: 0.0800 - val_accuracy: 0.9834\n",
      "Epoch 149/300\n",
      "1719/1719 [==============================] - 7s 4ms/step - loss: 9.8267e-04 - accuracy: 1.0000 - val_loss: 0.0797 - val_accuracy: 0.9828\n",
      "Epoch 150/300\n",
      "1719/1719 [==============================] - 6s 4ms/step - loss: 9.7087e-04 - accuracy: 1.0000 - val_loss: 0.0801 - val_accuracy: 0.9826\n",
      "Epoch 151/300\n",
      "1719/1719 [==============================] - 6s 4ms/step - loss: 9.5940e-04 - accuracy: 1.0000 - val_loss: 0.0799 - val_accuracy: 0.9824\n",
      "Epoch 152/300\n",
      "1719/1719 [==============================] - 7s 4ms/step - loss: 9.4947e-04 - accuracy: 1.0000 - val_loss: 0.0806 - val_accuracy: 0.9830\n",
      "Epoch 153/300\n",
      "1719/1719 [==============================] - 6s 4ms/step - loss: 9.4122e-04 - accuracy: 1.0000 - val_loss: 0.0800 - val_accuracy: 0.9824\n",
      "Epoch 154/300\n",
      "1719/1719 [==============================] - 7s 4ms/step - loss: 9.2853e-04 - accuracy: 1.0000 - val_loss: 0.0801 - val_accuracy: 0.9824\n",
      "Epoch 155/300\n",
      "1719/1719 [==============================] - 7s 4ms/step - loss: 9.1911e-04 - accuracy: 1.0000 - val_loss: 0.0804 - val_accuracy: 0.9826\n",
      "Epoch 156/300\n",
      "1719/1719 [==============================] - 6s 4ms/step - loss: 9.0871e-04 - accuracy: 1.0000 - val_loss: 0.0802 - val_accuracy: 0.9826\n",
      "Epoch 157/300\n",
      "1719/1719 [==============================] - 6s 4ms/step - loss: 9.0041e-04 - accuracy: 1.0000 - val_loss: 0.0802 - val_accuracy: 0.9826\n",
      "Epoch 158/300\n",
      "1719/1719 [==============================] - 6s 4ms/step - loss: 8.9167e-04 - accuracy: 1.0000 - val_loss: 0.0805 - val_accuracy: 0.9832\n",
      "Epoch 159/300\n",
      "1719/1719 [==============================] - 6s 4ms/step - loss: 8.7979e-04 - accuracy: 1.0000 - val_loss: 0.0805 - val_accuracy: 0.9826\n",
      "Epoch 160/300\n",
      "1719/1719 [==============================] - 7s 4ms/step - loss: 8.7410e-04 - accuracy: 1.0000 - val_loss: 0.0807 - val_accuracy: 0.9826\n",
      "Epoch 161/300\n",
      "1719/1719 [==============================] - 6s 4ms/step - loss: 8.6217e-04 - accuracy: 1.0000 - val_loss: 0.0806 - val_accuracy: 0.9828\n",
      "Epoch 162/300\n",
      "1719/1719 [==============================] - 6s 4ms/step - loss: 8.5464e-04 - accuracy: 1.0000 - val_loss: 0.0807 - val_accuracy: 0.9828\n",
      "Epoch 163/300\n",
      "1719/1719 [==============================] - 6s 4ms/step - loss: 8.4592e-04 - accuracy: 1.0000 - val_loss: 0.0811 - val_accuracy: 0.9828\n",
      "Epoch 164/300\n",
      "1719/1719 [==============================] - 6s 4ms/step - loss: 8.3691e-04 - accuracy: 1.0000 - val_loss: 0.0811 - val_accuracy: 0.9826\n",
      "Epoch 165/300\n",
      "1719/1719 [==============================] - 7s 4ms/step - loss: 8.2947e-04 - accuracy: 1.0000 - val_loss: 0.0810 - val_accuracy: 0.9826\n",
      "Epoch 166/300\n",
      "1719/1719 [==============================] - 6s 4ms/step - loss: 8.2167e-04 - accuracy: 1.0000 - val_loss: 0.0812 - val_accuracy: 0.9828\n",
      "Epoch 167/300\n",
      "1719/1719 [==============================] - 6s 4ms/step - loss: 8.1271e-04 - accuracy: 1.0000 - val_loss: 0.0811 - val_accuracy: 0.9826\n",
      "Epoch 168/300\n",
      "1719/1719 [==============================] - 6s 4ms/step - loss: 8.0474e-04 - accuracy: 1.0000 - val_loss: 0.0812 - val_accuracy: 0.9826\n",
      "Epoch 169/300\n",
      "1719/1719 [==============================] - 6s 4ms/step - loss: 7.9731e-04 - accuracy: 1.0000 - val_loss: 0.0811 - val_accuracy: 0.9824\n",
      "Epoch 170/300\n",
      "1719/1719 [==============================] - 6s 4ms/step - loss: 7.9022e-04 - accuracy: 1.0000 - val_loss: 0.0817 - val_accuracy: 0.9828\n",
      "Epoch 171/300\n",
      "1719/1719 [==============================] - 7s 4ms/step - loss: 7.8202e-04 - accuracy: 1.0000 - val_loss: 0.0815 - val_accuracy: 0.9826\n",
      "Epoch 172/300\n",
      "1719/1719 [==============================] - 6s 4ms/step - loss: 7.7412e-04 - accuracy: 1.0000 - val_loss: 0.0816 - val_accuracy: 0.9828\n",
      "Epoch 173/300\n",
      "1719/1719 [==============================] - 6s 4ms/step - loss: 7.6794e-04 - accuracy: 1.0000 - val_loss: 0.0815 - val_accuracy: 0.9826\n",
      "Epoch 174/300\n",
      "1719/1719 [==============================] - 6s 4ms/step - loss: 7.6033e-04 - accuracy: 1.0000 - val_loss: 0.0816 - val_accuracy: 0.9828\n",
      "Epoch 175/300\n",
      "1719/1719 [==============================] - 6s 4ms/step - loss: 7.5386e-04 - accuracy: 1.0000 - val_loss: 0.0817 - val_accuracy: 0.9828\n",
      "Epoch 176/300\n",
      "1719/1719 [==============================] - 7s 4ms/step - loss: 7.4543e-04 - accuracy: 1.0000 - val_loss: 0.0819 - val_accuracy: 0.9826\n",
      "Epoch 177/300\n",
      "1719/1719 [==============================] - 6s 4ms/step - loss: 7.3914e-04 - accuracy: 1.0000 - val_loss: 0.0819 - val_accuracy: 0.9826\n",
      "Epoch 178/300\n",
      "1719/1719 [==============================] - 6s 4ms/step - loss: 7.3201e-04 - accuracy: 1.0000 - val_loss: 0.0821 - val_accuracy: 0.9826\n",
      "Epoch 179/300\n",
      "1719/1719 [==============================] - 6s 4ms/step - loss: 7.2609e-04 - accuracy: 1.0000 - val_loss: 0.0819 - val_accuracy: 0.9828\n",
      "Epoch 180/300\n",
      "1719/1719 [==============================] - 6s 4ms/step - loss: 7.2009e-04 - accuracy: 1.0000 - val_loss: 0.0821 - val_accuracy: 0.9826\n",
      "Epoch 181/300\n",
      "1719/1719 [==============================] - 6s 4ms/step - loss: 7.1315e-04 - accuracy: 1.0000 - val_loss: 0.0822 - val_accuracy: 0.9826\n",
      "Epoch 182/300\n",
      "1719/1719 [==============================] - 6s 4ms/step - loss: 7.0665e-04 - accuracy: 1.0000 - val_loss: 0.0822 - val_accuracy: 0.9826\n",
      "Epoch 183/300\n",
      "1719/1719 [==============================] - 6s 4ms/step - loss: 7.0105e-04 - accuracy: 1.0000 - val_loss: 0.0825 - val_accuracy: 0.9826\n",
      "Epoch 184/300\n",
      "1719/1719 [==============================] - 6s 4ms/step - loss: 6.9424e-04 - accuracy: 1.0000 - val_loss: 0.0826 - val_accuracy: 0.9826\n",
      "Epoch 185/300\n",
      "1719/1719 [==============================] - 6s 4ms/step - loss: 6.8989e-04 - accuracy: 1.0000 - val_loss: 0.0824 - val_accuracy: 0.9826\n",
      "Epoch 186/300\n",
      "1719/1719 [==============================] - 7s 4ms/step - loss: 6.8253e-04 - accuracy: 1.0000 - val_loss: 0.0829 - val_accuracy: 0.9824\n",
      "Epoch 187/300\n",
      "1719/1719 [==============================] - 6s 4ms/step - loss: 6.7805e-04 - accuracy: 1.0000 - val_loss: 0.0827 - val_accuracy: 0.9824\n",
      "Epoch 188/300\n",
      "1719/1719 [==============================] - 6s 4ms/step - loss: 6.7114e-04 - accuracy: 1.0000 - val_loss: 0.0825 - val_accuracy: 0.9826\n",
      "Epoch 189/300\n",
      "1719/1719 [==============================] - 6s 4ms/step - loss: 6.6679e-04 - accuracy: 1.0000 - val_loss: 0.0829 - val_accuracy: 0.9826\n",
      "Epoch 190/300\n",
      "1719/1719 [==============================] - 7s 4ms/step - loss: 6.5899e-04 - accuracy: 1.0000 - val_loss: 0.0829 - val_accuracy: 0.9828\n",
      "Epoch 191/300\n",
      "1719/1719 [==============================] - 7s 4ms/step - loss: 6.5659e-04 - accuracy: 1.0000 - val_loss: 0.0829 - val_accuracy: 0.9826\n",
      "Epoch 192/300\n",
      "1719/1719 [==============================] - 6s 4ms/step - loss: 6.4786e-04 - accuracy: 1.0000 - val_loss: 0.0829 - val_accuracy: 0.9826\n",
      "Epoch 193/300\n",
      "1719/1719 [==============================] - 6s 4ms/step - loss: 6.4282e-04 - accuracy: 1.0000 - val_loss: 0.0828 - val_accuracy: 0.9828\n",
      "Epoch 194/300\n",
      "1719/1719 [==============================] - 6s 4ms/step - loss: 6.3814e-04 - accuracy: 1.0000 - val_loss: 0.0831 - val_accuracy: 0.9826\n",
      "Epoch 195/300\n",
      "1719/1719 [==============================] - 7s 4ms/step - loss: 6.3317e-04 - accuracy: 1.0000 - val_loss: 0.0829 - val_accuracy: 0.9828\n",
      "Epoch 196/300\n",
      "1719/1719 [==============================] - 6s 4ms/step - loss: 6.2948e-04 - accuracy: 1.0000 - val_loss: 0.0831 - val_accuracy: 0.9826\n",
      "Epoch 197/300\n",
      "1719/1719 [==============================] - 6s 4ms/step - loss: 6.2277e-04 - accuracy: 1.0000 - val_loss: 0.0832 - val_accuracy: 0.9828\n",
      "Epoch 198/300\n",
      "1719/1719 [==============================] - 6s 4ms/step - loss: 6.1744e-04 - accuracy: 1.0000 - val_loss: 0.0835 - val_accuracy: 0.9826\n",
      "Epoch 199/300\n",
      "1719/1719 [==============================] - 6s 4ms/step - loss: 6.1397e-04 - accuracy: 1.0000 - val_loss: 0.0832 - val_accuracy: 0.9826\n",
      "Epoch 200/300\n",
      "1719/1719 [==============================] - 6s 4ms/step - loss: 6.0824e-04 - accuracy: 1.0000 - val_loss: 0.0836 - val_accuracy: 0.9824\n",
      "Epoch 201/300\n",
      "1719/1719 [==============================] - 6s 4ms/step - loss: 6.0355e-04 - accuracy: 1.0000 - val_loss: 0.0836 - val_accuracy: 0.9826\n",
      "Epoch 202/300\n",
      "1719/1719 [==============================] - 6s 4ms/step - loss: 5.9933e-04 - accuracy: 1.0000 - val_loss: 0.0834 - val_accuracy: 0.9828\n",
      "Epoch 203/300\n",
      "1719/1719 [==============================] - 6s 4ms/step - loss: 5.9319e-04 - accuracy: 1.0000 - val_loss: 0.0839 - val_accuracy: 0.9824\n",
      "Epoch 204/300\n",
      "1719/1719 [==============================] - 7s 4ms/step - loss: 5.9112e-04 - accuracy: 1.0000 - val_loss: 0.0835 - val_accuracy: 0.9826\n",
      "Epoch 205/300\n",
      "1719/1719 [==============================] - 6s 4ms/step - loss: 5.8596e-04 - accuracy: 1.0000 - val_loss: 0.0838 - val_accuracy: 0.9826\n",
      "Epoch 206/300\n",
      "1719/1719 [==============================] - 6s 4ms/step - loss: 5.8160e-04 - accuracy: 1.0000 - val_loss: 0.0838 - val_accuracy: 0.9826\n",
      "Epoch 207/300\n",
      "1719/1719 [==============================] - 7s 4ms/step - loss: 5.7730e-04 - accuracy: 1.0000 - val_loss: 0.0839 - val_accuracy: 0.9826\n",
      "Epoch 208/300\n",
      "1719/1719 [==============================] - 7s 4ms/step - loss: 5.7282e-04 - accuracy: 1.0000 - val_loss: 0.0838 - val_accuracy: 0.9828\n",
      "Epoch 209/300\n",
      "1719/1719 [==============================] - 6s 4ms/step - loss: 5.6797e-04 - accuracy: 1.0000 - val_loss: 0.0841 - val_accuracy: 0.9826\n",
      "Epoch 210/300\n",
      "1719/1719 [==============================] - 6s 4ms/step - loss: 5.6454e-04 - accuracy: 1.0000 - val_loss: 0.0840 - val_accuracy: 0.9826\n",
      "Epoch 211/300\n",
      "1719/1719 [==============================] - 6s 4ms/step - loss: 5.6115e-04 - accuracy: 1.0000 - val_loss: 0.0841 - val_accuracy: 0.9824\n",
      "Epoch 212/300\n",
      "1719/1719 [==============================] - 6s 4ms/step - loss: 5.5542e-04 - accuracy: 1.0000 - val_loss: 0.0840 - val_accuracy: 0.9826\n",
      "Epoch 213/300\n",
      "1719/1719 [==============================] - 6s 4ms/step - loss: 5.5196e-04 - accuracy: 1.0000 - val_loss: 0.0842 - val_accuracy: 0.9826\n",
      "Epoch 214/300\n",
      "1719/1719 [==============================] - 6s 4ms/step - loss: 5.4782e-04 - accuracy: 1.0000 - val_loss: 0.0842 - val_accuracy: 0.9826\n",
      "Epoch 215/300\n",
      "1719/1719 [==============================] - 6s 4ms/step - loss: 5.4451e-04 - accuracy: 1.0000 - val_loss: 0.0843 - val_accuracy: 0.9824\n",
      "Epoch 216/300\n",
      "1719/1719 [==============================] - 6s 4ms/step - loss: 5.3920e-04 - accuracy: 1.0000 - val_loss: 0.0845 - val_accuracy: 0.9826\n",
      "Epoch 217/300\n",
      "1719/1719 [==============================] - 6s 4ms/step - loss: 5.3702e-04 - accuracy: 1.0000 - val_loss: 0.0842 - val_accuracy: 0.9826\n",
      "Epoch 218/300\n",
      "1719/1719 [==============================] - 6s 4ms/step - loss: 5.3260e-04 - accuracy: 1.0000 - val_loss: 0.0846 - val_accuracy: 0.9826\n",
      "Epoch 219/300\n",
      "1719/1719 [==============================] - 6s 4ms/step - loss: 5.2813e-04 - accuracy: 1.0000 - val_loss: 0.0844 - val_accuracy: 0.9826\n",
      "Epoch 220/300\n",
      "1719/1719 [==============================] - 6s 4ms/step - loss: 5.2449e-04 - accuracy: 1.0000 - val_loss: 0.0845 - val_accuracy: 0.9826\n",
      "Epoch 221/300\n",
      "1719/1719 [==============================] - 7s 4ms/step - loss: 5.2081e-04 - accuracy: 1.0000 - val_loss: 0.0844 - val_accuracy: 0.9826\n",
      "Epoch 222/300\n",
      "1719/1719 [==============================] - 6s 4ms/step - loss: 5.1742e-04 - accuracy: 1.0000 - val_loss: 0.0849 - val_accuracy: 0.9824\n",
      "Epoch 223/300\n",
      "1719/1719 [==============================] - 6s 4ms/step - loss: 5.1475e-04 - accuracy: 1.0000 - val_loss: 0.0847 - val_accuracy: 0.9824\n",
      "Epoch 224/300\n",
      "1719/1719 [==============================] - 6s 4ms/step - loss: 5.1153e-04 - accuracy: 1.0000 - val_loss: 0.0849 - val_accuracy: 0.9824\n",
      "Epoch 225/300\n",
      "1719/1719 [==============================] - 6s 4ms/step - loss: 5.0679e-04 - accuracy: 1.0000 - val_loss: 0.0850 - val_accuracy: 0.9828\n",
      "Epoch 226/300\n",
      "1719/1719 [==============================] - 6s 4ms/step - loss: 5.0411e-04 - accuracy: 1.0000 - val_loss: 0.0850 - val_accuracy: 0.9826\n",
      "Epoch 227/300\n",
      "1719/1719 [==============================] - 6s 4ms/step - loss: 5.0015e-04 - accuracy: 1.0000 - val_loss: 0.0849 - val_accuracy: 0.9826\n",
      "Epoch 228/300\n",
      "1719/1719 [==============================] - 6s 4ms/step - loss: 4.9654e-04 - accuracy: 1.0000 - val_loss: 0.0848 - val_accuracy: 0.9826\n",
      "Epoch 229/300\n",
      "1719/1719 [==============================] - 7s 4ms/step - loss: 4.9347e-04 - accuracy: 1.0000 - val_loss: 0.0850 - val_accuracy: 0.9828\n",
      "Epoch 230/300\n",
      "1719/1719 [==============================] - 6s 4ms/step - loss: 4.9089e-04 - accuracy: 1.0000 - val_loss: 0.0853 - val_accuracy: 0.9826\n",
      "Epoch 231/300\n",
      "1719/1719 [==============================] - 6s 4ms/step - loss: 4.8665e-04 - accuracy: 1.0000 - val_loss: 0.0852 - val_accuracy: 0.9826\n",
      "Epoch 232/300\n",
      "1719/1719 [==============================] - 6s 4ms/step - loss: 4.8409e-04 - accuracy: 1.0000 - val_loss: 0.0852 - val_accuracy: 0.9824\n",
      "Epoch 233/300\n",
      "1719/1719 [==============================] - 7s 4ms/step - loss: 4.8126e-04 - accuracy: 1.0000 - val_loss: 0.0852 - val_accuracy: 0.9824\n",
      "Epoch 234/300\n",
      "1719/1719 [==============================] - 6s 4ms/step - loss: 4.7808e-04 - accuracy: 1.0000 - val_loss: 0.0853 - val_accuracy: 0.9828\n",
      "Epoch 235/300\n",
      "1719/1719 [==============================] - 6s 4ms/step - loss: 4.7539e-04 - accuracy: 1.0000 - val_loss: 0.0854 - val_accuracy: 0.9826\n",
      "Epoch 236/300\n",
      "1719/1719 [==============================] - 6s 4ms/step - loss: 4.7168e-04 - accuracy: 1.0000 - val_loss: 0.0856 - val_accuracy: 0.9826\n",
      "Epoch 237/300\n",
      "1719/1719 [==============================] - 6s 4ms/step - loss: 4.6882e-04 - accuracy: 1.0000 - val_loss: 0.0855 - val_accuracy: 0.9826\n",
      "Epoch 238/300\n",
      "1719/1719 [==============================] - 6s 4ms/step - loss: 4.6593e-04 - accuracy: 1.0000 - val_loss: 0.0855 - val_accuracy: 0.9826\n",
      "Epoch 239/300\n",
      "1719/1719 [==============================] - 6s 4ms/step - loss: 4.6305e-04 - accuracy: 1.0000 - val_loss: 0.0857 - val_accuracy: 0.9826\n",
      "Epoch 240/300\n",
      "1719/1719 [==============================] - 6s 4ms/step - loss: 4.5917e-04 - accuracy: 1.0000 - val_loss: 0.0858 - val_accuracy: 0.9826\n",
      "Epoch 241/300\n",
      "1719/1719 [==============================] - 6s 4ms/step - loss: 4.5685e-04 - accuracy: 1.0000 - val_loss: 0.0858 - val_accuracy: 0.9826\n",
      "Epoch 242/300\n",
      "1719/1719 [==============================] - 7s 4ms/step - loss: 4.5446e-04 - accuracy: 1.0000 - val_loss: 0.0858 - val_accuracy: 0.9826\n",
      "Epoch 243/300\n",
      "1719/1719 [==============================] - 6s 4ms/step - loss: 4.5166e-04 - accuracy: 1.0000 - val_loss: 0.0860 - val_accuracy: 0.9826\n",
      "Epoch 244/300\n",
      "1719/1719 [==============================] - 6s 4ms/step - loss: 4.4886e-04 - accuracy: 1.0000 - val_loss: 0.0858 - val_accuracy: 0.9826\n",
      "Epoch 245/300\n",
      "1719/1719 [==============================] - 6s 4ms/step - loss: 4.4572e-04 - accuracy: 1.0000 - val_loss: 0.0858 - val_accuracy: 0.9826\n",
      "Epoch 246/300\n",
      "1719/1719 [==============================] - 7s 4ms/step - loss: 4.4311e-04 - accuracy: 1.0000 - val_loss: 0.0861 - val_accuracy: 0.9826\n",
      "Epoch 247/300\n",
      "1719/1719 [==============================] - 7s 4ms/step - loss: 4.4004e-04 - accuracy: 1.0000 - val_loss: 0.0862 - val_accuracy: 0.9826\n",
      "Epoch 248/300\n",
      "1719/1719 [==============================] - 6s 4ms/step - loss: 4.3799e-04 - accuracy: 1.0000 - val_loss: 0.0860 - val_accuracy: 0.9826\n",
      "Epoch 249/300\n",
      "1719/1719 [==============================] - 6s 4ms/step - loss: 4.3472e-04 - accuracy: 1.0000 - val_loss: 0.0860 - val_accuracy: 0.9826\n",
      "Epoch 250/300\n",
      "1719/1719 [==============================] - 6s 4ms/step - loss: 4.3254e-04 - accuracy: 1.0000 - val_loss: 0.0861 - val_accuracy: 0.9826\n",
      "Epoch 251/300\n",
      "1719/1719 [==============================] - 7s 4ms/step - loss: 4.3030e-04 - accuracy: 1.0000 - val_loss: 0.0864 - val_accuracy: 0.9826\n",
      "Epoch 252/300\n",
      "1719/1719 [==============================] - 6s 4ms/step - loss: 4.2760e-04 - accuracy: 1.0000 - val_loss: 0.0862 - val_accuracy: 0.9826\n",
      "Epoch 253/300\n",
      "1719/1719 [==============================] - 6s 4ms/step - loss: 4.2487e-04 - accuracy: 1.0000 - val_loss: 0.0863 - val_accuracy: 0.9826\n",
      "Epoch 254/300\n",
      "1719/1719 [==============================] - 6s 4ms/step - loss: 4.2174e-04 - accuracy: 1.0000 - val_loss: 0.0864 - val_accuracy: 0.9824\n",
      "Epoch 255/300\n",
      "1719/1719 [==============================] - 7s 4ms/step - loss: 4.1994e-04 - accuracy: 1.0000 - val_loss: 0.0865 - val_accuracy: 0.9826\n",
      "Epoch 256/300\n",
      "1719/1719 [==============================] - 6s 4ms/step - loss: 4.1779e-04 - accuracy: 1.0000 - val_loss: 0.0865 - val_accuracy: 0.9826\n",
      "Epoch 257/300\n",
      "1719/1719 [==============================] - 6s 4ms/step - loss: 4.1469e-04 - accuracy: 1.0000 - val_loss: 0.0865 - val_accuracy: 0.9826\n",
      "Epoch 258/300\n",
      "1719/1719 [==============================] - 6s 4ms/step - loss: 4.1287e-04 - accuracy: 1.0000 - val_loss: 0.0865 - val_accuracy: 0.9826\n",
      "Epoch 259/300\n",
      "1719/1719 [==============================] - 6s 4ms/step - loss: 4.0984e-04 - accuracy: 1.0000 - val_loss: 0.0863 - val_accuracy: 0.9826\n",
      "Epoch 260/300\n",
      "1719/1719 [==============================] - 6s 4ms/step - loss: 4.0811e-04 - accuracy: 1.0000 - val_loss: 0.0864 - val_accuracy: 0.9826\n",
      "Epoch 261/300\n",
      "1719/1719 [==============================] - 6s 4ms/step - loss: 4.0527e-04 - accuracy: 1.0000 - val_loss: 0.0867 - val_accuracy: 0.9826\n",
      "Epoch 262/300\n",
      "1719/1719 [==============================] - 6s 4ms/step - loss: 4.0339e-04 - accuracy: 1.0000 - val_loss: 0.0867 - val_accuracy: 0.9826\n",
      "Epoch 263/300\n",
      "1719/1719 [==============================] - 6s 4ms/step - loss: 4.0073e-04 - accuracy: 1.0000 - val_loss: 0.0868 - val_accuracy: 0.9826\n",
      "Epoch 264/300\n",
      "1719/1719 [==============================] - 7s 4ms/step - loss: 3.9860e-04 - accuracy: 1.0000 - val_loss: 0.0869 - val_accuracy: 0.9824\n",
      "Epoch 265/300\n",
      "1719/1719 [==============================] - 6s 4ms/step - loss: 3.9657e-04 - accuracy: 1.0000 - val_loss: 0.0870 - val_accuracy: 0.9826\n",
      "Epoch 266/300\n",
      "1719/1719 [==============================] - 6s 4ms/step - loss: 3.9472e-04 - accuracy: 1.0000 - val_loss: 0.0869 - val_accuracy: 0.9826\n",
      "Epoch 267/300\n",
      "1719/1719 [==============================] - 6s 4ms/step - loss: 3.9184e-04 - accuracy: 1.0000 - val_loss: 0.0868 - val_accuracy: 0.9826\n",
      "Epoch 268/300\n",
      "1719/1719 [==============================] - 7s 4ms/step - loss: 3.8968e-04 - accuracy: 1.0000 - val_loss: 0.0870 - val_accuracy: 0.9826\n",
      "Epoch 269/300\n",
      "1719/1719 [==============================] - 6s 4ms/step - loss: 3.8754e-04 - accuracy: 1.0000 - val_loss: 0.0870 - val_accuracy: 0.9826\n",
      "Epoch 270/300\n",
      "1719/1719 [==============================] - 6s 4ms/step - loss: 3.8523e-04 - accuracy: 1.0000 - val_loss: 0.0869 - val_accuracy: 0.9826\n",
      "Epoch 271/300\n",
      "1719/1719 [==============================] - 6s 4ms/step - loss: 3.8375e-04 - accuracy: 1.0000 - val_loss: 0.0871 - val_accuracy: 0.9826\n",
      "Epoch 272/300\n",
      "1719/1719 [==============================] - 9s 5ms/step - loss: 3.8161e-04 - accuracy: 1.0000 - val_loss: 0.0870 - val_accuracy: 0.9826\n",
      "Epoch 273/300\n",
      "1719/1719 [==============================] - 5534s 3s/step - loss: 3.7959e-04 - accuracy: 1.0000 - val_loss: 0.0873 - val_accuracy: 0.9826\n",
      "Epoch 274/300\n",
      "1719/1719 [==============================] - 8s 5ms/step - loss: 3.7685e-04 - accuracy: 1.0000 - val_loss: 0.0870 - val_accuracy: 0.9826\n",
      "Epoch 275/300\n",
      "1719/1719 [==============================] - 7s 4ms/step - loss: 3.7572e-04 - accuracy: 1.0000 - val_loss: 0.0871 - val_accuracy: 0.9826\n",
      "Epoch 276/300\n",
      "1719/1719 [==============================] - 8s 5ms/step - loss: 3.7379e-04 - accuracy: 1.0000 - val_loss: 0.0873 - val_accuracy: 0.9826\n",
      "Epoch 277/300\n",
      "1719/1719 [==============================] - 8s 5ms/step - loss: 3.7115e-04 - accuracy: 1.0000 - val_loss: 0.0874 - val_accuracy: 0.9826\n",
      "Epoch 278/300\n",
      "1719/1719 [==============================] - 7s 4ms/step - loss: 3.6897e-04 - accuracy: 1.0000 - val_loss: 0.0874 - val_accuracy: 0.9826\n",
      "Epoch 279/300\n",
      "1719/1719 [==============================] - 8s 5ms/step - loss: 3.6728e-04 - accuracy: 1.0000 - val_loss: 0.0876 - val_accuracy: 0.9824\n",
      "Epoch 280/300\n",
      "1719/1719 [==============================] - 7s 4ms/step - loss: 3.6550e-04 - accuracy: 1.0000 - val_loss: 0.0877 - val_accuracy: 0.9826\n",
      "Epoch 281/300\n",
      "1719/1719 [==============================] - 7s 4ms/step - loss: 3.6330e-04 - accuracy: 1.0000 - val_loss: 0.0874 - val_accuracy: 0.9826\n",
      "Epoch 282/300\n",
      "1719/1719 [==============================] - 7s 4ms/step - loss: 3.6190e-04 - accuracy: 1.0000 - val_loss: 0.0876 - val_accuracy: 0.9826\n",
      "Epoch 283/300\n",
      "1719/1719 [==============================] - 7s 4ms/step - loss: 3.5968e-04 - accuracy: 1.0000 - val_loss: 0.0878 - val_accuracy: 0.9826\n",
      "Epoch 284/300\n",
      "1719/1719 [==============================] - 7s 4ms/step - loss: 3.5838e-04 - accuracy: 1.0000 - val_loss: 0.0877 - val_accuracy: 0.9826\n",
      "Epoch 285/300\n",
      "1719/1719 [==============================] - 7s 4ms/step - loss: 3.5639e-04 - accuracy: 1.0000 - val_loss: 0.0877 - val_accuracy: 0.9826\n",
      "Epoch 286/300\n",
      "1719/1719 [==============================] - 7s 4ms/step - loss: 3.5418e-04 - accuracy: 1.0000 - val_loss: 0.0877 - val_accuracy: 0.9826\n",
      "Epoch 287/300\n",
      "1719/1719 [==============================] - 7s 4ms/step - loss: 3.5281e-04 - accuracy: 1.0000 - val_loss: 0.0878 - val_accuracy: 0.9826\n",
      "Epoch 288/300\n",
      "1719/1719 [==============================] - 7s 4ms/step - loss: 3.5054e-04 - accuracy: 1.0000 - val_loss: 0.0880 - val_accuracy: 0.9826\n",
      "Epoch 289/300\n",
      "1719/1719 [==============================] - 7s 4ms/step - loss: 3.4866e-04 - accuracy: 1.0000 - val_loss: 0.0879 - val_accuracy: 0.9826\n",
      "Epoch 290/300\n",
      "1719/1719 [==============================] - 7s 4ms/step - loss: 3.4733e-04 - accuracy: 1.0000 - val_loss: 0.0879 - val_accuracy: 0.9826\n",
      "Epoch 291/300\n",
      "1719/1719 [==============================] - 7s 4ms/step - loss: 3.4565e-04 - accuracy: 1.0000 - val_loss: 0.0882 - val_accuracy: 0.9826\n",
      "Epoch 292/300\n",
      "1719/1719 [==============================] - 7s 4ms/step - loss: 3.4397e-04 - accuracy: 1.0000 - val_loss: 0.0879 - val_accuracy: 0.9826\n",
      "Epoch 293/300\n",
      "1719/1719 [==============================] - 6s 4ms/step - loss: 3.4207e-04 - accuracy: 1.0000 - val_loss: 0.0881 - val_accuracy: 0.9826\n",
      "Epoch 294/300\n",
      "1719/1719 [==============================] - 6s 4ms/step - loss: 3.4043e-04 - accuracy: 1.0000 - val_loss: 0.0879 - val_accuracy: 0.9826\n",
      "Epoch 295/300\n",
      "1719/1719 [==============================] - 6s 4ms/step - loss: 3.3839e-04 - accuracy: 1.0000 - val_loss: 0.0883 - val_accuracy: 0.9826\n",
      "Epoch 296/300\n",
      "1719/1719 [==============================] - 7s 4ms/step - loss: 3.3721e-04 - accuracy: 1.0000 - val_loss: 0.0880 - val_accuracy: 0.9826\n",
      "Epoch 297/300\n",
      "1719/1719 [==============================] - 6s 4ms/step - loss: 3.3515e-04 - accuracy: 1.0000 - val_loss: 0.0883 - val_accuracy: 0.9824\n",
      "Epoch 298/300\n",
      "1719/1719 [==============================] - 7s 4ms/step - loss: 3.3323e-04 - accuracy: 1.0000 - val_loss: 0.0884 - val_accuracy: 0.9824\n",
      "Epoch 299/300\n",
      "1719/1719 [==============================] - 7s 4ms/step - loss: 3.3211e-04 - accuracy: 1.0000 - val_loss: 0.0882 - val_accuracy: 0.9826\n",
      "Epoch 300/300\n",
      "1719/1719 [==============================] - 7s 4ms/step - loss: 3.3064e-04 - accuracy: 1.0000 - val_loss: 0.0884 - val_accuracy: 0.9826\n"
     ]
    }
   ],
   "source": [
    "EPOCHS = 300\n",
    "VALIDATION_SET = (X_valid, y_valid)\n",
    "\n",
    "history = model.fit(X_train, y_train, epochs = EPOCHS,\n",
    "                  validation_data =VALIDATION_SET)"
   ]
  },
  {
   "cell_type": "code",
   "execution_count": 36,
   "metadata": {
    "colab": {
     "base_uri": "https://localhost:8080/"
    },
    "id": "mGB-UTZfZMM3",
    "outputId": "2edd0686-85e7-4533-fab8-791dfaf55b47",
    "tags": []
   },
   "outputs": [
    {
     "data": {
      "text/plain": [
       "1718.75"
      ]
     },
     "execution_count": 36,
     "metadata": {},
     "output_type": "execute_result"
    }
   ],
   "source": [
    " 55000 / 32  # from above cell we can say that 1719 is nothing but it showing the total batches to train"
   ]
  },
  {
   "cell_type": "code",
   "execution_count": 37,
   "metadata": {
    "colab": {
     "base_uri": "https://localhost:8080/"
    },
    "id": "WVWDsZtdb9f1",
    "outputId": "bf775f10-429d-4242-d299-c40cca61b13e",
    "tags": []
   },
   "outputs": [
    {
     "name": "stdout",
     "output_type": "stream",
     "text": [
      "313/313 [==============================] - 1s 3ms/step - loss: 0.0692 - accuracy: 0.9781\n"
     ]
    },
    {
     "data": {
      "text/plain": [
       "[0.0692133828997612, 0.9781000018119812]"
      ]
     },
     "execution_count": 37,
     "metadata": {},
     "output_type": "execute_result"
    }
   ],
   "source": [
    "model.evaluate(X_test, y_test)"
   ]
  },
  {
   "cell_type": "code",
   "execution_count": 38,
   "metadata": {
    "id": "-U28_rOPdJem",
    "tags": []
   },
   "outputs": [],
   "source": [
    "model.save(\"model.h5\")"
   ]
  },
  {
   "cell_type": "code",
   "execution_count": 55,
   "metadata": {
    "id": "G62_2saVdT7L",
    "tags": []
   },
   "outputs": [],
   "source": [
    "loaded_model = tf.keras.models.load_model(\"model.h5\")"
   ]
  },
  {
   "cell_type": "code",
   "execution_count": 56,
   "metadata": {
    "colab": {
     "base_uri": "https://localhost:8080/"
    },
    "id": "QXtPRdaCdn7w",
    "outputId": "86b4681a-3a40-4e42-da87-de3ef31fa143",
    "tags": []
   },
   "outputs": [
    {
     "name": "stdout",
     "output_type": "stream",
     "text": [
      "313/313 [==============================] - 1s 4ms/step - loss: 0.0850 - accuracy: 0.9738\n"
     ]
    },
    {
     "data": {
      "text/plain": [
       "[0.0849754810333252, 0.973800003528595]"
      ]
     },
     "execution_count": 56,
     "metadata": {},
     "output_type": "execute_result"
    }
   ],
   "source": [
    "loaded_model.evaluate(X_test, y_test)"
   ]
  },
  {
   "cell_type": "code",
   "execution_count": 57,
   "metadata": {
    "colab": {
     "base_uri": "https://localhost:8080/",
     "height": 175
    },
    "id": "xsllkwJBe9ba",
    "outputId": "871df787-4020-4d8e-f2ed-84099803aa0d",
    "tags": []
   },
   "outputs": [
    {
     "data": {
      "text/html": [
       "<div>\n",
       "<style scoped>\n",
       "    .dataframe tbody tr th:only-of-type {\n",
       "        vertical-align: middle;\n",
       "    }\n",
       "\n",
       "    .dataframe tbody tr th {\n",
       "        vertical-align: top;\n",
       "    }\n",
       "\n",
       "    .dataframe thead th {\n",
       "        text-align: right;\n",
       "    }\n",
       "</style>\n",
       "<table border=\"1\" class=\"dataframe\">\n",
       "  <thead>\n",
       "    <tr style=\"text-align: right;\">\n",
       "      <th></th>\n",
       "      <th>loss</th>\n",
       "      <th>accuracy</th>\n",
       "      <th>val_loss</th>\n",
       "      <th>val_accuracy</th>\n",
       "    </tr>\n",
       "  </thead>\n",
       "  <tbody>\n",
       "    <tr>\n",
       "      <th>0</th>\n",
       "      <td>0.077513</td>\n",
       "      <td>0.978836</td>\n",
       "      <td>0.092784</td>\n",
       "      <td>0.9742</td>\n",
       "    </tr>\n",
       "    <tr>\n",
       "      <th>1</th>\n",
       "      <td>0.072195</td>\n",
       "      <td>0.980600</td>\n",
       "      <td>0.090981</td>\n",
       "      <td>0.9746</td>\n",
       "    </tr>\n",
       "    <tr>\n",
       "      <th>2</th>\n",
       "      <td>0.067328</td>\n",
       "      <td>0.982382</td>\n",
       "      <td>0.087104</td>\n",
       "      <td>0.9750</td>\n",
       "    </tr>\n",
       "    <tr>\n",
       "      <th>3</th>\n",
       "      <td>0.062676</td>\n",
       "      <td>0.983200</td>\n",
       "      <td>0.089296</td>\n",
       "      <td>0.9732</td>\n",
       "    </tr>\n",
       "    <tr>\n",
       "      <th>4</th>\n",
       "      <td>0.058955</td>\n",
       "      <td>0.984382</td>\n",
       "      <td>0.086910</td>\n",
       "      <td>0.9756</td>\n",
       "    </tr>\n",
       "  </tbody>\n",
       "</table>\n",
       "</div>"
      ],
      "text/plain": [
       "       loss  accuracy  val_loss  val_accuracy\n",
       "0  0.077513  0.978836  0.092784        0.9742\n",
       "1  0.072195  0.980600  0.090981        0.9746\n",
       "2  0.067328  0.982382  0.087104        0.9750\n",
       "3  0.062676  0.983200  0.089296        0.9732\n",
       "4  0.058955  0.984382  0.086910        0.9756"
      ]
     },
     "execution_count": 57,
     "metadata": {},
     "output_type": "execute_result"
    }
   ],
   "source": [
    "pd.DataFrame(history.history)"
   ]
  },
  {
   "cell_type": "code",
   "execution_count": 58,
   "metadata": {
    "colab": {
     "base_uri": "https://localhost:8080/",
     "height": 228
    },
    "id": "3Mml_MI-d0pA",
    "outputId": "c2f3194f-6a45-47ef-f903-a3413b892bec",
    "tags": []
   },
   "outputs": [
    {
     "data": {
      "image/png": "[encoded data removed]",
      "text/plain": [
       "<Figure size 800x500 with 1 Axes>"
      ]
     },
     "metadata": {},
     "output_type": "display_data"
    }
   ],
   "source": [
    "pd.DataFrame(history.history).plot(figsize=(8,5))\n",
    "plt.grid(True)\n",
    "plt.gca().set_ylim(0,1)\n",
    "plt.show()"
   ]
  },
  {
   "cell_type": "code",
   "execution_count": 59,
   "metadata": {
    "colab": {
     "base_uri": "https://localhost:8080/"
    },
    "id": "aQ3_U7D0d7dO",
    "outputId": "f6c985c9-ec66-47ad-f165-c3e8385466d6",
    "tags": []
   },
   "outputs": [
    {
     "name": "stdout",
     "output_type": "stream",
     "text": [
      "1/1 [==============================] - 0s 194ms/step\n"
     ]
    },
    {
     "data": {
      "text/plain": [
       "array([[0.  , 0.  , 0.  , 0.  , 0.  , 0.  , 0.  , 1.  , 0.  , 0.  ],\n",
       "       [0.  , 0.  , 1.  , 0.  , 0.  , 0.  , 0.  , 0.  , 0.  , 0.  ],\n",
       "       [0.  , 0.99, 0.  , 0.  , 0.  , 0.  , 0.  , 0.  , 0.  , 0.  ]],\n",
       "      dtype=float32)"
      ]
     },
     "execution_count": 59,
     "metadata": {},
     "output_type": "execute_result"
    }
   ],
   "source": [
    "X_new = X_test[:3]\n",
    "y_new =  y_test[:3]\n",
    "\n",
    "y_proba = model.predict(X_new)\n",
    "y_proba.round(2)"
   ]
  },
  {
   "cell_type": "code",
   "execution_count": 60,
   "metadata": {
    "colab": {
     "base_uri": "https://localhost:8080/"
    },
    "id": "TBdJWzewfZwx",
    "outputId": "33374964-84a5-44d7-d1fc-32c16738161e",
    "tags": []
   },
   "outputs": [
    {
     "data": {
      "text/plain": [
       "(array([7, 2, 1], dtype=int64), array([7, 2, 1], dtype=uint8))"
      ]
     },
     "execution_count": 60,
     "metadata": {},
     "output_type": "execute_result"
    }
   ],
   "source": [
    "y_pred = np.argmax(y_proba, axis = 1)\n",
    "y_pred, y_new"
   ]
  },
  {
   "cell_type": "code",
   "execution_count": 61,
   "metadata": {
    "colab": {
     "base_uri": "https://localhost:8080/",
     "height": 1000
    },
    "id": "dFQZjNXGgpJi",
    "outputId": "11a2df35-a261-44a8-89be-2d7108137536",
    "tags": []
   },
   "outputs": [
    {
     "data": {
      "image/png": "[encoded data removed]",
      "text/plain": [
       "<Figure size 640x480 with 1 Axes>"
      ]
     },
     "metadata": {},
     "output_type": "display_data"
    },
    {
     "name": "stdout",
     "output_type": "stream",
     "text": [
      "------------------------------------------------------------\n"
     ]
    },
    {
     "data": {
      "image/png": "[encoded data removed]",
      "text/plain": [
       "<Figure size 640x480 with 1 Axes>"
      ]
     },
     "metadata": {},
     "output_type": "display_data"
    },
    {
     "name": "stdout",
     "output_type": "stream",
     "text": [
      "------------------------------------------------------------\n"
     ]
    },
    {
     "data": {
      "image/png": "[encoded data removed]",
      "text/plain": [
       "<Figure size 640x480 with 1 Axes>"
      ]
     },
     "metadata": {},
     "output_type": "display_data"
    },
    {
     "name": "stdout",
     "output_type": "stream",
     "text": [
      "------------------------------------------------------------\n"
     ]
    }
   ],
   "source": [
    "for data, pred, actual in zip(X_new, y_pred, y_new):\n",
    "  plt.imshow(data,  cmap=\"binary\")\n",
    "  plt.title(f\"predicted: {pred}, Actual: {actual}\")\n",
    "  plt.axis(\"off\")\n",
    "  plt.show()\n",
    "  print(\"---\"*20)"
   ]
  },
  {
   "cell_type": "code",
   "execution_count": 66,
   "metadata": {
    "colab": {
     "base_uri": "https://localhost:8080/",
     "height": 245
    },
    "id": "DO1RN1Osh169",
    "outputId": "32512a5b-bfe9-47db-9311-c8ecbe7be824",
    "tags": []
   },
   "outputs": [
    {
     "ename": "OSError",
     "evalue": "No file or directory found at model_ckpt.h5",
     "output_type": "error",
     "traceback": [
      "\u001b[1;31m---------------------------------------------------------------------------\u001b[0m",
      "\u001b[1;31mOSError\u001b[0m                                   Traceback (most recent call last)",
      "Cell \u001b[1;32mIn[66], line 1\u001b[0m\n\u001b[1;32m----> 1\u001b[0m ckpt_model \u001b[38;5;241m=\u001b[39m \u001b[43mtf\u001b[49m\u001b[38;5;241;43m.\u001b[39;49m\u001b[43mkeras\u001b[49m\u001b[38;5;241;43m.\u001b[39;49m\u001b[43mmodels\u001b[49m\u001b[38;5;241;43m.\u001b[39;49m\u001b[43mload_model\u001b[49m\u001b[43m(\u001b[49m\u001b[43mCKPT_Path\u001b[49m\u001b[43m)\u001b[49m\n\u001b[0;32m      4\u001b[0m ckpt_history \u001b[38;5;241m=\u001b[39m ckpt_model\u001b[38;5;241m.\u001b[39mfit(X_train, y_train, epochs \u001b[38;5;241m=\u001b[39m EPOCHS,\n\u001b[0;32m      5\u001b[0m                   validation_data \u001b[38;5;241m=\u001b[39mVALIDATION_SET)\n",
      "File \u001b[1;32m~\\anaconda3\\lib\\site-packages\\keras\\saving\\saving_api.py:212\u001b[0m, in \u001b[0;36mload_model\u001b[1;34m(filepath, custom_objects, compile, safe_mode, **kwargs)\u001b[0m\n\u001b[0;32m    204\u001b[0m     \u001b[38;5;28;01mreturn\u001b[39;00m saving_lib\u001b[38;5;241m.\u001b[39mload_model(\n\u001b[0;32m    205\u001b[0m         filepath,\n\u001b[0;32m    206\u001b[0m         custom_objects\u001b[38;5;241m=\u001b[39mcustom_objects,\n\u001b[0;32m    207\u001b[0m         \u001b[38;5;28mcompile\u001b[39m\u001b[38;5;241m=\u001b[39m\u001b[38;5;28mcompile\u001b[39m,\n\u001b[0;32m    208\u001b[0m         safe_mode\u001b[38;5;241m=\u001b[39msafe_mode,\n\u001b[0;32m    209\u001b[0m     )\n\u001b[0;32m    211\u001b[0m \u001b[38;5;66;03m# Legacy case.\u001b[39;00m\n\u001b[1;32m--> 212\u001b[0m \u001b[38;5;28;01mreturn\u001b[39;00m legacy_sm_saving_lib\u001b[38;5;241m.\u001b[39mload_model(\n\u001b[0;32m    213\u001b[0m     filepath, custom_objects\u001b[38;5;241m=\u001b[39mcustom_objects, \u001b[38;5;28mcompile\u001b[39m\u001b[38;5;241m=\u001b[39m\u001b[38;5;28mcompile\u001b[39m, \u001b[38;5;241m*\u001b[39m\u001b[38;5;241m*\u001b[39mkwargs\n\u001b[0;32m    214\u001b[0m )\n",
      "File \u001b[1;32m~\\anaconda3\\lib\\site-packages\\keras\\utils\\traceback_utils.py:70\u001b[0m, in \u001b[0;36mfilter_traceback.<locals>.error_handler\u001b[1;34m(*args, **kwargs)\u001b[0m\n\u001b[0;32m     67\u001b[0m     filtered_tb \u001b[38;5;241m=\u001b[39m _process_traceback_frames(e\u001b[38;5;241m.\u001b[39m__traceback__)\n\u001b[0;32m     68\u001b[0m     \u001b[38;5;66;03m# To get the full stack trace, call:\u001b[39;00m\n\u001b[0;32m     69\u001b[0m     \u001b[38;5;66;03m# `tf.debugging.disable_traceback_filtering()`\u001b[39;00m\n\u001b[1;32m---> 70\u001b[0m     \u001b[38;5;28;01mraise\u001b[39;00m e\u001b[38;5;241m.\u001b[39mwith_traceback(filtered_tb) \u001b[38;5;28;01mfrom\u001b[39;00m \u001b[38;5;28;01mNone\u001b[39;00m\n\u001b[0;32m     71\u001b[0m \u001b[38;5;28;01mfinally\u001b[39;00m:\n\u001b[0;32m     72\u001b[0m     \u001b[38;5;28;01mdel\u001b[39;00m filtered_tb\n",
      "File \u001b[1;32m~\\anaconda3\\lib\\site-packages\\keras\\saving\\legacy\\save.py:230\u001b[0m, in \u001b[0;36mload_model\u001b[1;34m(filepath, custom_objects, compile, options)\u001b[0m\n\u001b[0;32m    228\u001b[0m \u001b[38;5;28;01mif\u001b[39;00m \u001b[38;5;28misinstance\u001b[39m(filepath_str, \u001b[38;5;28mstr\u001b[39m):\n\u001b[0;32m    229\u001b[0m     \u001b[38;5;28;01mif\u001b[39;00m \u001b[38;5;129;01mnot\u001b[39;00m tf\u001b[38;5;241m.\u001b[39mio\u001b[38;5;241m.\u001b[39mgfile\u001b[38;5;241m.\u001b[39mexists(filepath_str):\n\u001b[1;32m--> 230\u001b[0m         \u001b[38;5;28;01mraise\u001b[39;00m \u001b[38;5;167;01mIOError\u001b[39;00m(\n\u001b[0;32m    231\u001b[0m             \u001b[38;5;124mf\u001b[39m\u001b[38;5;124m\"\u001b[39m\u001b[38;5;124mNo file or directory found at \u001b[39m\u001b[38;5;132;01m{\u001b[39;00mfilepath_str\u001b[38;5;132;01m}\u001b[39;00m\u001b[38;5;124m\"\u001b[39m\n\u001b[0;32m    232\u001b[0m         )\n\u001b[0;32m    234\u001b[0m     \u001b[38;5;28;01mif\u001b[39;00m tf\u001b[38;5;241m.\u001b[39mio\u001b[38;5;241m.\u001b[39mgfile\u001b[38;5;241m.\u001b[39misdir(filepath_str):\n\u001b[0;32m    235\u001b[0m         \u001b[38;5;28;01mreturn\u001b[39;00m saved_model_load\u001b[38;5;241m.\u001b[39mload(\n\u001b[0;32m    236\u001b[0m             filepath_str, \u001b[38;5;28mcompile\u001b[39m, options\n\u001b[0;32m    237\u001b[0m         )\n",
      "\u001b[1;31mOSError\u001b[0m: No file or directory found at model_ckpt.h5"
     ]
    }
   ],
   "source": [
    "ckpt_model = tf.keras.models.load_model(CKPT_Path)\n",
    "\n",
    "\n",
    "ckpt_history = ckpt_model.fit(X_train, y_train, epochs = EPOCHS,\n",
    "                  validation_data =VALIDATION_SET)"
   ]
  },
  {
   "cell_type": "code",
   "execution_count": null,
   "metadata": {
    "id": "vJeVeW2Z0Z2r"
   },
   "outputs": [],
   "source": []
  }
 ],
 "metadata": {
  "accelerator": "GPU",
  "colab": {
   "gpuType": "T4",
   "provenance": []
  },
  "kernelspec": {
   "display_name": "Python 3 (ipykernel)",
   "language": "python",
   "name": "python3"
  },
  "language_info": {
   "codemirror_mode": {
    "name": "ipython",
    "version": 3
   },
   "file_extension": ".py",
   "mimetype": "text/x-python",
   "name": "python",
   "nbconvert_exporter": "python",
   "pygments_lexer": "ipython3",
   "version": "3.10.9"
  }
 },
 "nbformat": 4,
 "nbformat_minor": 4
}
